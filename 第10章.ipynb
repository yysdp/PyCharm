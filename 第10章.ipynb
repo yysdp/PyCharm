{
  "nbformat": 4,
  "nbformat_minor": 0,
  "metadata": {
    "colab": {
      "name": "第10章",
      "version": "0.3.2",
      "provenance": []
    },
    "kernelspec": {
      "name": "python3",
      "display_name": "Python 3"
    },
    "accelerator": "GPU"
  },
  "cells": [
    {
      "metadata": {
        "id": "t7lwnMYWZKyG",
        "colab_type": "code",
        "outputId": "c7b10f99-f0e6-4d24-8862-06eb772cce8c",
        "colab": {
          "base_uri": "https://localhost:8080/",
          "height": 204
        }
      },
      "cell_type": "code",
      "source": [
        "!pip install gym"
      ],
      "execution_count": 2,
      "outputs": [
        {
          "output_type": "stream",
          "text": [
            "Requirement already satisfied: gym in /usr/local/lib/python3.6/dist-packages (0.10.9)\n",
            "Requirement already satisfied: scipy in /usr/local/lib/python3.6/dist-packages (from gym) (1.1.0)\n",
            "Requirement already satisfied: numpy>=1.10.4 in /usr/local/lib/python3.6/dist-packages (from gym) (1.14.6)\n",
            "Requirement already satisfied: requests>=2.0 in /usr/local/lib/python3.6/dist-packages (from gym) (2.18.4)\n",
            "Requirement already satisfied: six in /usr/local/lib/python3.6/dist-packages (from gym) (1.11.0)\n",
            "Requirement already satisfied: pyglet>=1.2.0 in /usr/local/lib/python3.6/dist-packages (from gym) (1.3.2)\n",
            "Requirement already satisfied: certifi>=2017.4.17 in /usr/local/lib/python3.6/dist-packages (from requests>=2.0->gym) (2018.11.29)\n",
            "Requirement already satisfied: urllib3<1.23,>=1.21.1 in /usr/local/lib/python3.6/dist-packages (from requests>=2.0->gym) (1.22)\n",
            "Requirement already satisfied: idna<2.7,>=2.5 in /usr/local/lib/python3.6/dist-packages (from requests>=2.0->gym) (2.6)\n",
            "Requirement already satisfied: chardet<3.1.0,>=3.0.2 in /usr/local/lib/python3.6/dist-packages (from requests>=2.0->gym) (3.0.4)\n",
            "Requirement already satisfied: future in /usr/local/lib/python3.6/dist-packages (from pyglet>=1.2.0->gym) (0.16.0)\n"
          ],
          "name": "stdout"
        }
      ]
    },
    {
      "metadata": {
        "id": "gX27-tIfaDR8",
        "colab_type": "code",
        "outputId": "1758b047-c403-44db-ad48-055d8b8e1930",
        "colab": {
          "base_uri": "https://localhost:8080/",
          "height": 71
        }
      },
      "cell_type": "code",
      "source": [
        "import random\n",
        "import numpy as np\n",
        "import matplotlib.pyplot as plt\n",
        "from keras.layers import Dense, Dropout, Activation\n",
        "from keras.models import Sequential\n",
        "from keras.optimizers import Adam\n",
        "from keras import backend as K\n",
        "from collections import deque\n",
        "import gym\n",
        "\n",
        "#选取互动环境\n",
        "env = gym.make('CartPole-v1')\n",
        "state = env.reset()"
      ],
      "execution_count": 15,
      "outputs": [
        {
          "output_type": "stream",
          "text": [
            "/usr/local/lib/python3.6/dist-packages/gym/envs/registration.py:14: PkgResourcesDeprecationWarning: Parameters to load are deprecated.  Call .resolve and .require separately.\n",
            "  result = entry_point.load(False)\n"
          ],
          "name": "stderr"
        }
      ]
    },
    {
      "metadata": {
        "id": "0rf8ennjaH6F",
        "colab_type": "code",
        "outputId": "5be53854-ecf0-4975-a06f-1660aee32476",
        "colab": {
          "base_uri": "https://localhost:8080/",
          "height": 34
        }
      },
      "cell_type": "code",
      "source": [
        "#0或1表示让小车向不同方向移动\n",
        "action = 0\n",
        "#step(action)表示想环境发生命令\n",
        "new_state, reward, done , info = env.step(action)\n",
        "print((new_state, reward, done, info))"
      ],
      "execution_count": 16,
      "outputs": [
        {
          "output_type": "stream",
          "text": [
            "(array([-0.03110931, -0.23055778, -0.00225125,  0.24765558]), 1.0, False, {})\n"
          ],
          "name": "stdout"
        }
      ]
    },
    {
      "metadata": {
        "id": "N-dx_5bStYmt",
        "colab_type": "code",
        "outputId": "6590886c-4dce-44b0-957e-66f9c0b2f9dc",
        "colab": {
          "base_uri": "https://localhost:8080/",
          "height": 173
        }
      },
      "cell_type": "code",
      "source": [
        "import random\n",
        "import numpy as np\n",
        "import matplotlib.pyplot as plt\n",
        "from keras.layers import Dense, Dropout, Activation\n",
        "from keras.models import Sequential\n",
        "from keras.optimizers import Adam\n",
        "from keras import backend as K\n",
        "from collections import deque\n",
        "import gym\n",
        "#选取互动环境\n",
        "env = gym.make('FrozenLake-v0')\n",
        "state = env.reset()\n",
        "env.render()"
      ],
      "execution_count": 0,
      "outputs": [
        {
          "output_type": "stream",
          "text": [
            "Using TensorFlow backend.\n"
          ],
          "name": "stderr"
        },
        {
          "output_type": "stream",
          "text": [
            "\n",
            "\u001b[41mS\u001b[0mFFF\n",
            "FHFH\n",
            "FFFH\n",
            "HFFG\n"
          ],
          "name": "stdout"
        },
        {
          "output_type": "stream",
          "text": [
            "/usr/local/lib/python3.6/dist-packages/gym/envs/registration.py:14: PkgResourcesDeprecationWarning: Parameters to load are deprecated.  Call .resolve and .require separately.\n",
            "  result = entry_point.load(False)\n"
          ],
          "name": "stderr"
        }
      ]
    },
    {
      "metadata": {
        "id": "OnbGuPpqbKaV",
        "colab_type": "code",
        "outputId": "23228928-4b54-46fc-ce3f-d4c5e368ee42",
        "colab": {
          "base_uri": "https://localhost:8080/",
          "height": 187
        }
      },
      "cell_type": "code",
      "source": [
        "def  random_actions_game(episodes):\n",
        "  for episode in range(episodes):\n",
        "    state = env.reset()\n",
        "    score = 0\n",
        "    done = False\n",
        "    while not done:\n",
        "      #随机向环境发生命令\n",
        "      action = random.choice([0, 1])\n",
        "      new_state, reward, done, info = env.step(action)\n",
        "      score += 1\n",
        "    print('Episode: {} score: {}'.format(episode + 1, score))\n",
        "\n",
        "\n",
        "    random_actions_game(10)"
      ],
      "execution_count": 0,
      "outputs": [
        {
          "output_type": "stream",
          "text": [
            "Episode: 1 score: 16\n",
            "Episode: 2 score: 34\n",
            "Episode: 3 score: 17\n",
            "Episode: 4 score: 16\n",
            "Episode: 5 score: 11\n",
            "Episode: 6 score: 29\n",
            "Episode: 7 score: 9\n",
            "Episode: 8 score: 24\n",
            "Episode: 9 score: 14\n",
            "Episode: 10 score: 20\n"
          ],
          "name": "stdout"
        }
      ]
    },
    {
      "metadata": {
        "id": "kcRCCbT-t8k2",
        "colab_type": "code",
        "outputId": "c8575084-f774-4f59-bc22-77b84f4c58cc",
        "colab": {
          "base_uri": "https://localhost:8080/",
          "height": 88
        }
      },
      "cell_type": "code",
      "source": [
        "env = env.unwrapped\n",
        "#环境状态点数量\n",
        "print(env.observation_space.n)\n",
        "#可采取的行动数量\n",
        "print(env.action_space.n)\n",
        "#在每个节点采取四种行动的概率\n",
        "print(env.P)"
      ],
      "execution_count": 0,
      "outputs": [
        {
          "output_type": "stream",
          "text": [
            "16\n",
            "4\n",
            "{0: {0: [(0.3333333333333333, 0, 0.0, False), (0.3333333333333333, 0, 0.0, False), (0.3333333333333333, 4, 0.0, False)], 1: [(0.3333333333333333, 0, 0.0, False), (0.3333333333333333, 4, 0.0, False), (0.3333333333333333, 1, 0.0, False)], 2: [(0.3333333333333333, 4, 0.0, False), (0.3333333333333333, 1, 0.0, False), (0.3333333333333333, 0, 0.0, False)], 3: [(0.3333333333333333, 1, 0.0, False), (0.3333333333333333, 0, 0.0, False), (0.3333333333333333, 0, 0.0, False)]}, 1: {0: [(0.3333333333333333, 1, 0.0, False), (0.3333333333333333, 0, 0.0, False), (0.3333333333333333, 5, 0.0, True)], 1: [(0.3333333333333333, 0, 0.0, False), (0.3333333333333333, 5, 0.0, True), (0.3333333333333333, 2, 0.0, False)], 2: [(0.3333333333333333, 5, 0.0, True), (0.3333333333333333, 2, 0.0, False), (0.3333333333333333, 1, 0.0, False)], 3: [(0.3333333333333333, 2, 0.0, False), (0.3333333333333333, 1, 0.0, False), (0.3333333333333333, 0, 0.0, False)]}, 2: {0: [(0.3333333333333333, 2, 0.0, False), (0.3333333333333333, 1, 0.0, False), (0.3333333333333333, 6, 0.0, False)], 1: [(0.3333333333333333, 1, 0.0, False), (0.3333333333333333, 6, 0.0, False), (0.3333333333333333, 3, 0.0, False)], 2: [(0.3333333333333333, 6, 0.0, False), (0.3333333333333333, 3, 0.0, False), (0.3333333333333333, 2, 0.0, False)], 3: [(0.3333333333333333, 3, 0.0, False), (0.3333333333333333, 2, 0.0, False), (0.3333333333333333, 1, 0.0, False)]}, 3: {0: [(0.3333333333333333, 3, 0.0, False), (0.3333333333333333, 2, 0.0, False), (0.3333333333333333, 7, 0.0, True)], 1: [(0.3333333333333333, 2, 0.0, False), (0.3333333333333333, 7, 0.0, True), (0.3333333333333333, 3, 0.0, False)], 2: [(0.3333333333333333, 7, 0.0, True), (0.3333333333333333, 3, 0.0, False), (0.3333333333333333, 3, 0.0, False)], 3: [(0.3333333333333333, 3, 0.0, False), (0.3333333333333333, 3, 0.0, False), (0.3333333333333333, 2, 0.0, False)]}, 4: {0: [(0.3333333333333333, 0, 0.0, False), (0.3333333333333333, 4, 0.0, False), (0.3333333333333333, 8, 0.0, False)], 1: [(0.3333333333333333, 4, 0.0, False), (0.3333333333333333, 8, 0.0, False), (0.3333333333333333, 5, 0.0, True)], 2: [(0.3333333333333333, 8, 0.0, False), (0.3333333333333333, 5, 0.0, True), (0.3333333333333333, 0, 0.0, False)], 3: [(0.3333333333333333, 5, 0.0, True), (0.3333333333333333, 0, 0.0, False), (0.3333333333333333, 4, 0.0, False)]}, 5: {0: [(1.0, 5, 0, True)], 1: [(1.0, 5, 0, True)], 2: [(1.0, 5, 0, True)], 3: [(1.0, 5, 0, True)]}, 6: {0: [(0.3333333333333333, 2, 0.0, False), (0.3333333333333333, 5, 0.0, True), (0.3333333333333333, 10, 0.0, False)], 1: [(0.3333333333333333, 5, 0.0, True), (0.3333333333333333, 10, 0.0, False), (0.3333333333333333, 7, 0.0, True)], 2: [(0.3333333333333333, 10, 0.0, False), (0.3333333333333333, 7, 0.0, True), (0.3333333333333333, 2, 0.0, False)], 3: [(0.3333333333333333, 7, 0.0, True), (0.3333333333333333, 2, 0.0, False), (0.3333333333333333, 5, 0.0, True)]}, 7: {0: [(1.0, 7, 0, True)], 1: [(1.0, 7, 0, True)], 2: [(1.0, 7, 0, True)], 3: [(1.0, 7, 0, True)]}, 8: {0: [(0.3333333333333333, 4, 0.0, False), (0.3333333333333333, 8, 0.0, False), (0.3333333333333333, 12, 0.0, True)], 1: [(0.3333333333333333, 8, 0.0, False), (0.3333333333333333, 12, 0.0, True), (0.3333333333333333, 9, 0.0, False)], 2: [(0.3333333333333333, 12, 0.0, True), (0.3333333333333333, 9, 0.0, False), (0.3333333333333333, 4, 0.0, False)], 3: [(0.3333333333333333, 9, 0.0, False), (0.3333333333333333, 4, 0.0, False), (0.3333333333333333, 8, 0.0, False)]}, 9: {0: [(0.3333333333333333, 5, 0.0, True), (0.3333333333333333, 8, 0.0, False), (0.3333333333333333, 13, 0.0, False)], 1: [(0.3333333333333333, 8, 0.0, False), (0.3333333333333333, 13, 0.0, False), (0.3333333333333333, 10, 0.0, False)], 2: [(0.3333333333333333, 13, 0.0, False), (0.3333333333333333, 10, 0.0, False), (0.3333333333333333, 5, 0.0, True)], 3: [(0.3333333333333333, 10, 0.0, False), (0.3333333333333333, 5, 0.0, True), (0.3333333333333333, 8, 0.0, False)]}, 10: {0: [(0.3333333333333333, 6, 0.0, False), (0.3333333333333333, 9, 0.0, False), (0.3333333333333333, 14, 0.0, False)], 1: [(0.3333333333333333, 9, 0.0, False), (0.3333333333333333, 14, 0.0, False), (0.3333333333333333, 11, 0.0, True)], 2: [(0.3333333333333333, 14, 0.0, False), (0.3333333333333333, 11, 0.0, True), (0.3333333333333333, 6, 0.0, False)], 3: [(0.3333333333333333, 11, 0.0, True), (0.3333333333333333, 6, 0.0, False), (0.3333333333333333, 9, 0.0, False)]}, 11: {0: [(1.0, 11, 0, True)], 1: [(1.0, 11, 0, True)], 2: [(1.0, 11, 0, True)], 3: [(1.0, 11, 0, True)]}, 12: {0: [(1.0, 12, 0, True)], 1: [(1.0, 12, 0, True)], 2: [(1.0, 12, 0, True)], 3: [(1.0, 12, 0, True)]}, 13: {0: [(0.3333333333333333, 9, 0.0, False), (0.3333333333333333, 12, 0.0, True), (0.3333333333333333, 13, 0.0, False)], 1: [(0.3333333333333333, 12, 0.0, True), (0.3333333333333333, 13, 0.0, False), (0.3333333333333333, 14, 0.0, False)], 2: [(0.3333333333333333, 13, 0.0, False), (0.3333333333333333, 14, 0.0, False), (0.3333333333333333, 9, 0.0, False)], 3: [(0.3333333333333333, 14, 0.0, False), (0.3333333333333333, 9, 0.0, False), (0.3333333333333333, 12, 0.0, True)]}, 14: {0: [(0.3333333333333333, 10, 0.0, False), (0.3333333333333333, 13, 0.0, False), (0.3333333333333333, 14, 0.0, False)], 1: [(0.3333333333333333, 13, 0.0, False), (0.3333333333333333, 14, 0.0, False), (0.3333333333333333, 15, 1.0, True)], 2: [(0.3333333333333333, 14, 0.0, False), (0.3333333333333333, 15, 1.0, True), (0.3333333333333333, 10, 0.0, False)], 3: [(0.3333333333333333, 15, 1.0, True), (0.3333333333333333, 10, 0.0, False), (0.3333333333333333, 13, 0.0, False)]}, 15: {0: [(1.0, 15, 0, True)], 1: [(1.0, 15, 0, True)], 2: [(1.0, 15, 0, True)], 3: [(1.0, 15, 0, True)]}}\n"
          ],
          "name": "stdout"
        }
      ]
    },
    {
      "metadata": {
        "id": "hmSIQe83x3wf",
        "colab_type": "code",
        "outputId": "5675d628-5365-4879-ada2-f6ad08fc7b46",
        "colab": {
          "base_uri": "https://localhost:8080/",
          "height": 34
        }
      },
      "cell_type": "code",
      "source": [
        "print(env.P[14][1])"
      ],
      "execution_count": 0,
      "outputs": [
        {
          "output_type": "stream",
          "text": [
            "[(0.3333333333333333, 13, 0.0, False), (0.3333333333333333, 14, 0.0, False), (0.3333333333333333, 15, 1.0, True)]\n"
          ],
          "name": "stdout"
        }
      ]
    },
    {
      "metadata": {
        "id": "aOGmk-kL1CAa",
        "colab_type": "code",
        "colab": {}
      },
      "cell_type": "code",
      "source": [
        "#初始化所有状态点为0\n",
        "value_of_table = np.zeros(env.observation_space.n)\n",
        "#设置循环更新最大次数\n",
        "no_of_iteration = 100000"
      ],
      "execution_count": 0,
      "outputs": []
    },
    {
      "metadata": {
        "id": "5UUUCQfe1Tyx",
        "colab_type": "code",
        "colab": {}
      },
      "cell_type": "code",
      "source": [
        "def  value_iteration(env, gamma = 1.0):\n",
        "  #设定阈值\n",
        "  threshold = 1e-20\n",
        "  \n",
        "  for i in range(no_of_iteration):\n",
        "    updated_value_of_table = np.copy(value_of_table)\n",
        "    #根据公式（8）循环更新每个节点值\n",
        "    for state in range(env.observation_space.n):\n",
        "      Q_value = []\n",
        "      #计算在给的状态点采取所有行动后可获得的最大值\n",
        "      for action in range(env.action_space.n):\n",
        "        next_states_rewards = []\n",
        "        for next_sr in env.P[state][action]:\n",
        "          trans_prob, next_state, reward, _ = next_sr\n",
        "          #根据公式（8）计算回报                                        \n",
        "          next_states_rewards.append((trans_prob * (reward + gamma * updated_value_of_table[next_state])))\n",
        "          \n",
        "        Q_value.append(np.sum(next_states_rewards))\n",
        "      \n",
        "      #更新状态节点值\n",
        "      value_of_table[state] = max(Q_value)\n",
        "    #检测前后两次迭代状态点的值变化是否在阈值范围内\n",
        "    if np.sum(np.fabs(updated_value_of_table - value_of_table)) <= threshold:\n",
        "      print(\"interation finished : %d\" % (i+1))\n",
        "      break\n",
        "  \n",
        "  return value_of_table\n",
        "    "
      ],
      "execution_count": 0,
      "outputs": []
    },
    {
      "metadata": {
        "id": "v_p1hzcB4kr_",
        "colab_type": "code",
        "outputId": "ef7ea62a-3a97-4a05-a2e6-61dfc9534cfc",
        "colab": {
          "base_uri": "https://localhost:8080/",
          "height": 34
        }
      },
      "cell_type": "code",
      "source": [
        "optimal_value_table = value_iteration(env=env, gamma = 1.0)"
      ],
      "execution_count": 0,
      "outputs": [
        {
          "output_type": "stream",
          "text": [
            "interation finished : 1373\n"
          ],
          "name": "stdout"
        }
      ]
    },
    {
      "metadata": {
        "id": "k42rBn-s5o5q",
        "colab_type": "code",
        "colab": {}
      },
      "cell_type": "code",
      "source": [
        "def  extract_policy(value_table, gamma = 1.0):\n",
        "  policy = np.zeros(env.observation_space.n)\n",
        "  \n",
        "  for state in range(env.observation_space.n):\n",
        "    Q_table = np.zeros(env.action_space.n)\n",
        "    #根据当前各状态点的最优值，计算采取不同行动所得分值\n",
        "    for action in range(env.action_space.n):\n",
        "      for next_sr in env.P[state][action]:\n",
        "        trans_prob, next_state, reward, _ = next_sr\n",
        "        Q_table[action] += (trans_prob * (reward + gamma * value_table[next_state]))\n",
        "    #把能获得最大回报的行动当做当前状态\n",
        "    policy[state] = np.argmax(Q_table)\n",
        "  \n",
        "  return policy"
      ],
      "execution_count": 0,
      "outputs": []
    },
    {
      "metadata": {
        "id": "c8yVJQx78la2",
        "colab_type": "code",
        "outputId": "3c4b0773-f724-4553-af54-e800a60b8822",
        "colab": {
          "base_uri": "https://localhost:8080/",
          "height": 34
        }
      },
      "cell_type": "code",
      "source": [
        "optimal_policy = extract_policy(optimal_value_table, gamma = 1.0)\n",
        "print(optimal_policy)"
      ],
      "execution_count": 0,
      "outputs": [
        {
          "output_type": "stream",
          "text": [
            "[0. 3. 3. 3. 0. 0. 0. 0. 3. 1. 0. 0. 0. 2. 1. 0.]\n"
          ],
          "name": "stdout"
        }
      ]
    },
    {
      "metadata": {
        "id": "j1k-OLzlLxX2",
        "colab_type": "code",
        "colab": {}
      },
      "cell_type": "code",
      "source": [
        "gamma = 0.95\n",
        "epsilon = 1.0\n",
        "epsilon_min = 0.01\n",
        "epsilon_decay = 0.99\n",
        "\n",
        "deque_len = 20000\n",
        "#我们的目标是训练网络能在一个episode中获得200分\n",
        "target_score = 200\n",
        "episodes = 2000\n",
        "batch_size = 64\n",
        "optimizer = 'adam'\n",
        "loss = 'mse'\n"
      ],
      "execution_count": 0,
      "outputs": []
    },
    {
      "metadata": {
        "id": "T_ZfU93gNDL_",
        "colab_type": "code",
        "colab": {}
      },
      "cell_type": "code",
      "source": [
        "#构建参与环境互动的网络\n",
        "def  agent(states, actions):\n",
        "  model = Sequential()\n",
        "  model.add(Dense(16, input_dim = states))\n",
        "  model.add(Activation('relu'))\n",
        "  model.add(Dense(16))\n",
        "  model.add(Activation('relu'))\n",
        "  model.add(Dense(16))\n",
        "  model.add(Activation('relu'))\n",
        "  #网络最后输出两种结果，分别对应在当前状态下采取对应行动时所得最终回报\n",
        "  model.add(Dense(actions))\n",
        "  model.add(Activation('linear'))\n",
        "  return model"
      ],
      "execution_count": 0,
      "outputs": []
    },
    {
      "metadata": {
        "id": "iq2VsXBPO0A_",
        "colab_type": "code",
        "colab": {}
      },
      "cell_type": "code",
      "source": [
        "'''\n",
        "根据epsilon贪婪算法，对于给定epsilon,在[0,1]内构造一个随机数，如果随机数的值比epsilon小，那么\n",
        "我们随机在两种行动中选择一种，如果比episilon大，我们让网络来决定当前状态\n",
        "'''\n",
        "def  agent_action(model, epsilon, state, actions):\n",
        "  if np.random.rand() <= epsilon:\n",
        "    #随机在两种行动中选一种\n",
        "    act = random.randrange(actions)\n",
        "  else:\n",
        "    act = np.argmax(model.predict(state)[0])\n",
        "  return act"
      ],
      "execution_count": 0,
      "outputs": []
    },
    {
      "metadata": {
        "id": "Uizw_W2GQeRu",
        "colab_type": "code",
        "colab": {}
      },
      "cell_type": "code",
      "source": [
        "training_data = deque(maxlen = deque_len)\n",
        "\n",
        "def  memory(state, new_state, reward, done, action):\n",
        "  training_data.append((state, new_state, reward, done, action))"
      ],
      "execution_count": 0,
      "outputs": []
    },
    {
      "metadata": {
        "id": "-1503pMaRxjs",
        "colab_type": "code",
        "colab": {}
      },
      "cell_type": "code",
      "source": [
        "def  performance_plot(scores, target_score):\n",
        "  scores_arr = np.array(scores)\n",
        "  scores_arr[np.where(scores_arr > target_score)] = target_score\n",
        "  plt.figure(figsize = (20, 5))\n",
        "  plt.title('Plot of Score v/s Episode')\n",
        "  plt.xlabel('Episodes')\n",
        "  plt.ylabel('Scores')\n",
        "  plt.plot(scores_arr)\n",
        "  plt.show()"
      ],
      "execution_count": 0,
      "outputs": []
    },
    {
      "metadata": {
        "id": "ovKX-gD_EnH0",
        "colab_type": "code",
        "colab": {}
      },
      "cell_type": "code",
      "source": [
        "'''\n",
        "将状态点，行动，环境反馈，下一个状态点等信息存储在队列里，输入网络，让网络识别如何在给定状态的中选择\n",
        "合适的行动\n",
        "'''\n",
        "def replay_back(epsilon, gamma, epislon_min, epsilon_decay, model, training_data, \n",
        "           batch_size = 64):\n",
        "  idx = random.sample(range(len(training_data)), min(len(training_data), batch_size))\n",
        "  train_batch = [training_data[j] for j in idx]\n",
        "  for state, new_state, reward, done, action in train_batch:\n",
        "    target = reward\n",
        "    '''\n",
        "    在当前状态(state)采取给定行动(action)，进入下一个状态(next_state),\n",
        "    如果next_state不是终止状态,那意味着在在当前状态state采取给定行动action是正确的，\n",
        "    于是我们根据Bellman函数迭代更新当前状态采取给定行动后的回报,然后训练网络识别状态点，行动\n",
        "    以及回报之间存在的关系,然后根据这种训练后的能力去识别新状态点在采取不同行动后的回报\n",
        "    '''\n",
        "    if not done:\n",
        "      #bellman函数迭代状态点执行给定行动后的回报\n",
        "      target = reward + gamma * np.amax(model.predict(new_state)[0])\n",
        "    target_f = model.predict(state)\n",
        "    #修正网络在给定状态下对给定行动后回报的预测\n",
        "    target_f[0][action] = target\n",
        "    #让网络重新识别给定状态采取给定行动后所得回报间的联系\n",
        "    model.fit(state, target_f, epochs = 1, verbose = 0)\n",
        "    if epsilon > epsilon_min:\n",
        "      #不断缩小epsilon的值，这样在agent_action中会更多的让网络做出决策\n",
        "      epsilon *= epsilon_decay\n",
        "  return epsilon"
      ],
      "execution_count": 0,
      "outputs": []
    },
    {
      "metadata": {
        "id": "fsGa0Lf3SVMO",
        "colab_type": "code",
        "colab": {}
      },
      "cell_type": "code",
      "source": [
        "def  train(target_score, batch_size, episodes, optimizer, loss, epsilon,\n",
        "          gamma, epsilon_min, epsilon_decay, actions):\n",
        "  print('---training---')\n",
        "  K.clear_session()\n",
        "  scores = []\n",
        "  model = agent(states, actions)\n",
        "  model.compile(loss = loss, optimizer = optimizer)\n",
        "  \n",
        "  for episode in range(1, episodes + 1):\n",
        "    state = env.reset()\n",
        "    #转换成1*4向量\n",
        "    state = state.reshape(1, states)\n",
        "    done = False\n",
        "    time_step = 0\n",
        "    while not done:\n",
        "      #使用贪婪算法获得行动类型\n",
        "      action = agent_action(model, epsilon, state, actions)\n",
        "      new_state, reward, done, info = env.step(action)\n",
        "      '''\n",
        "      如果当前行动导致的下个状态是终止状态，就如同并东湖问题中的窟窿，因此它对应的回报要对应负值\n",
        "      '''\n",
        "      reward = reward if not done else -10\n",
        "      new_state = new_state.reshape(1, states)\n",
        "      #把状态转换信息存储起来用于训练网络\n",
        "      memory(state, new_state, reward, done, action)\n",
        "      state = new_state\n",
        "      time_step += 1\n",
        "      \n",
        "    #将当前状态转换信息去训练网络\n",
        "    epsilon = replay(epsilon, gamma, epsilon_min, epsilon_decay, model,\n",
        "                    training_data)\n",
        "    scores.append(time_step)\n",
        "    if episode % 100 == 0:\n",
        "      print('episod {}, socre {}, epsilon{:4}'.format(episode, time_step,\n",
        "                                                     epsilon))\n",
        "      print('Avg Score over last 100 epochs', sum(scores[-100:])/100)\n",
        "      if sum(scores[-100: ])/100 > target_score:\n",
        "        print('----Goal Achived After {} Episodes------'.format(episode))\n",
        "        performance_plot(scores, target_score)\n",
        "        break\n",
        "  model.save('/content/gdrive/My Drive/CartPole.h5')     \n",
        "  return model     "
      ],
      "execution_count": 0,
      "outputs": []
    },
    {
      "metadata": {
        "id": "QD2af22dV4U1",
        "colab_type": "code",
        "colab": {
          "base_uri": "https://localhost:8080/",
          "height": 122
        },
        "outputId": "e39cc1a5-e192-4972-a249-ca29b2fff829"
      },
      "cell_type": "code",
      "source": [
        "from google.colab import drive\n",
        "drive.mount('/content/gdrive')"
      ],
      "execution_count": 13,
      "outputs": [
        {
          "output_type": "stream",
          "text": [
            "Go to this URL in a browser: https://accounts.google.com/o/oauth2/auth?client_id=947318989803-6bn6qk8qdgf4n4g3pfee6491hc0brc4i.apps.googleusercontent.com&redirect_uri=urn%3Aietf%3Awg%3Aoauth%3A2.0%3Aoob&scope=email%20https%3A%2F%2Fwww.googleapis.com%2Fauth%2Fdocs.test%20https%3A%2F%2Fwww.googleapis.com%2Fauth%2Fdrive%20https%3A%2F%2Fwww.googleapis.com%2Fauth%2Fdrive.photos.readonly%20https%3A%2F%2Fwww.googleapis.com%2Fauth%2Fpeopleapi.readonly&response_type=code\n",
            "\n",
            "Enter your authorization code:\n",
            "··········\n",
            "Mounted at /content/gdrive\n"
          ],
          "name": "stdout"
        }
      ]
    },
    {
      "metadata": {
        "id": "U8AXipwNWPog",
        "colab_type": "code",
        "colab": {
          "base_uri": "https://localhost:8080/",
          "height": 505
        },
        "outputId": "7072f947-68ba-47c7-f13d-97d6acc34113"
      },
      "cell_type": "code",
      "source": [
        "env = gym.make('CartPole-v1')\n",
        "\n",
        "seed_val = 456\n",
        "np.random.seed(seed_val)\n",
        "env.seed(seed_val)\n",
        "random.seed(seed_val)\n",
        "\n",
        "states = env.observation_space.shape[0]\n",
        "actions = env.action_space.n\n",
        "training_data = deque(maxlen=deque_len)\n",
        "\n",
        "model = train(target_score=target_score, batch_size=batch_size,\n",
        "              episodes=episodes, optimizer=optimizer, loss=loss,\n",
        "              epsilon=epsilon, gamma=gamma, epsilon_min=epsilon_min,\n",
        "              epsilon_decay=epsilon_decay, actions=actions)"
      ],
      "execution_count": 35,
      "outputs": [
        {
          "output_type": "stream",
          "text": [
            "/usr/local/lib/python3.6/dist-packages/gym/envs/registration.py:14: PkgResourcesDeprecationWarning: Parameters to load are deprecated.  Call .resolve and .require separately.\n",
            "  result = entry_point.load(False)\n"
          ],
          "name": "stderr"
        },
        {
          "output_type": "stream",
          "text": [
            "---training---\n",
            "episod 100, socre 45, epsilon0.36603234127322926\n",
            "Avg Score over last 100 epochs 35.58\n",
            "episod 200, socre 446, epsilon0.13397967485796175\n",
            "Avg Score over last 100 epochs 239.36\n",
            "----Goal Achived After 200 Episodes------\n"
          ],
          "name": "stdout"
        },
        {
          "output_type": "display_data",
          "data": {
            "image/png": "[encoded data removed]",
            "text/plain": [
              "<matplotlib.figure.Figure at 0x7fd735c36438>"
            ]
          },
          "metadata": {
            "tags": []
          }
        }
      ]
    }
  ]
}