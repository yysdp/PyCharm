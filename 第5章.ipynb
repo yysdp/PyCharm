{
 "cells": [
  {
   "cell_type": "code",
   "execution_count": 1,
   "metadata": {},
   "outputs": [],
   "source": [
    "class NeuralNetWork:\n",
    "    def  __init__(self):\n",
    "        '''\n",
    "        初始化网络，设置输入层，中间层，输出层的节点数\n",
    "        '''\n",
    "        pass\n",
    "    def  fit(self):\n",
    "        '''\n",
    "        根据训练数据，不断更新神经网络层之间的链路权重\n",
    "        '''\n",
    "        pass\n",
    "    def  evaluate(self):\n",
    "        '''\n",
    "        输入新数据，网络给出对新数据的判断结果\n",
    "        '''\n",
    "        pass\n",
    "    "
   ]
  },
  {
   "cell_type": "code",
   "execution_count": 2,
   "metadata": {},
   "outputs": [],
   "source": [
    "class NeuralNetWork:\n",
    "    def  __init__(self, inputnodes, hiddenodes, outputnodes, learningRate):\n",
    "        '''\n",
    "        初始化网络，设置输入层，中间层，输出层的节点数\n",
    "        '''\n",
    "        self.input_nodes = inputnodes\n",
    "        self.hidden_nodes = hiddenodes\n",
    "        self.output_nodes = outputnodes\n",
    "        \n",
    "        self.lr = learningRate\n",
    "        \n",
    "        pass\n",
    "    def  fit(self):\n",
    "        '''\n",
    "        根据训练数据，不断更新神经网络层之间的链路权重\n",
    "        '''\n",
    "        pass\n",
    "    def  evaluate(self):\n",
    "        '''\n",
    "        输入新数据，网络给出对新数据的判断结果\n",
    "        '''\n",
    "        pass\n",
    "    "
   ]
  },
  {
   "cell_type": "code",
   "execution_count": 3,
   "metadata": {},
   "outputs": [],
   "source": [
    "input_nodes = 3\n",
    "hidden_nodes = 3\n",
    "output_nodes = 3\n",
    "\n",
    "learning_rate = 0.3\n",
    "n = NeuralNetWork(input_nodes, hidden_nodes, output_nodes, learning_rate)"
   ]
  },
  {
   "cell_type": "code",
   "execution_count": 4,
   "metadata": {},
   "outputs": [],
   "source": [
    "class NeuralNetWork:\n",
    "    def  __init__(self, inputnodes, hiddenodes, outputnodes, learningRate):\n",
    "        '''\n",
    "        初始化网络，设置输入层，中间层，输出层的节点数\n",
    "        '''\n",
    "        self.input_nodes = inputnodes\n",
    "        self.hidden_nodes = hiddenodes\n",
    "        self.output_nodes = outputnodes\n",
    "        \n",
    "        self.lr = learningRate\n",
    "        \n",
    "        '''\n",
    "        初始化权重矩阵，我们有两个权重矩阵，一个是wih表示输入层和中间层节点间链路权重形成的矩阵\n",
    "        一个是who,表示中间层和输出层间链路权重形成的矩阵\n",
    "        '''\n",
    "        self.wih = numpy.random.rand(self.hidden_nodes, self.input_nodes) - 0.5\n",
    "        self.who = numpy.random.rand(self.output_nodes, self.hidden_nodes) - 0.5\n",
    "        \n",
    "        pass\n",
    "    def  fit(self):\n",
    "        '''\n",
    "        根据训练数据，不断更新神经网络层之间的链路权重\n",
    "        '''\n",
    "        pass\n",
    "    def  evaluate(self):\n",
    "        '''\n",
    "        输入新数据，网络给出对新数据的判断结果\n",
    "        '''\n",
    "        pass\n",
    "    "
   ]
  },
  {
   "cell_type": "code",
   "execution_count": 5,
   "metadata": {},
   "outputs": [],
   "source": [
    "import numpy\n",
    "import scipy.special\n",
    "\n",
    "class NeuralNetWork:\n",
    "    def  __init__(self, inputnodes, hiddenodes, outputnodes, learningRate):\n",
    "        '''\n",
    "        初始化网络，设置输入层，中间层，输出层的节点数\n",
    "        '''\n",
    "        self.input_nodes = inputnodes\n",
    "        self.hidden_nodes = hiddenodes\n",
    "        self.output_nodes = outputnodes\n",
    "        \n",
    "        self.lr = learningRate\n",
    "        \n",
    "        '''\n",
    "        初始化权重矩阵，我们有两个权重矩阵，一个是wih表示输入层和中间层节点间链路权重形成的矩阵\n",
    "        一个是who,表示中间层和输出层间链路权重形成的矩阵\n",
    "        '''\n",
    "        self.wih = numpy.random.rand(self.hidden_nodes, self.input_nodes) - 0.5\n",
    "        self.who = numpy.random.rand(self.output_nodes, self.hidden_nodes) - 0.5\n",
    "        \n",
    "        \n",
    "        pass\n",
    "    def  fit(self):\n",
    "        '''\n",
    "        根据训练数据，不断更新神经网络层之间的链路权重\n",
    "        '''\n",
    "        pass\n",
    "    def  evaluate(self, inputs):\n",
    "        '''\n",
    "        输入新数据，网络给出对新数据的判断结果,inputs对应输入信号量。\n",
    "        '''\n",
    "        hidden_inputs = numpy.dot(self.wih, inputs)\n",
    "        print(\"hidden inputs:\", hidden_inputs)\n",
    "        #sigmoid 激活函数对应于scipy.special.expit(x)\n",
    "        sigmoid = lambda x:scipy.special.expit(x)\n",
    "        hidden_outputs = sigmoid(hidden_inputs)\n",
    "        \n",
    "        #计算输出层神经元接收到的信号量\n",
    "        final_inputs = numpy.dot(self.who, hidden_outputs)\n",
    "        #调用sigmoid函数计算最外层神经元的输出信号\n",
    "        final_outputs = sigmoid(final_inputs)\n",
    "        print(final_outputs)\n",
    "        pass\n",
    "    "
   ]
  },
  {
   "cell_type": "code",
   "execution_count": 6,
   "metadata": {},
   "outputs": [
    {
     "name": "stdout",
     "output_type": "stream",
     "text": [
      "hidden inputs: [ 0.35214605 -0.00084191 -0.05907057]\n",
      "[0.44148097 0.40465364 0.48563615]\n"
     ]
    }
   ],
   "source": [
    "input_nodes = 3\n",
    "hidden_nodes = 3\n",
    "output_nodes = 3\n",
    "\n",
    "learning_rate = 0.3\n",
    "n = NeuralNetWork(input_nodes, hidden_nodes, output_nodes, learning_rate)\n",
    "n.evaluate([1.0, 0.5, -1.5])"
   ]
  },
  {
   "cell_type": "code",
   "execution_count": 7,
   "metadata": {},
   "outputs": [],
   "source": [
    "import numpy\n",
    "import scipy.special\n",
    "\n",
    "class NeuralNetWork:\n",
    "    def  __init__(self, inputnodes, hiddenodes, outputnodes, learningRate):\n",
    "        '''\n",
    "        初始化网络，设置输入层，中间层，输出层的节点数\n",
    "        '''\n",
    "        self.input_nodes = inputnodes\n",
    "        self.hidden_nodes = hiddenodes\n",
    "        self.output_nodes = outputnodes\n",
    "        \n",
    "        self.lr = learningRate\n",
    "        \n",
    "        '''\n",
    "        初始化权重矩阵，我们有两个权重矩阵，一个是wih表示输入层和中间层节点间链路权重形成的矩阵\n",
    "        一个是who,表示中间层和输出层间链路权重形成的矩阵\n",
    "        '''\n",
    "        self.wih = numpy.random.rand(self.hidden_nodes, self.input_nodes) - 0.5\n",
    "        self.who = numpy.random.rand(self.output_nodes, self.hidden_nodes) - 0.5\n",
    "        \n",
    "        \n",
    "        pass\n",
    "    def  fit(self, inputs_list, targets_list):\n",
    "        #1,根据输入的训练数据更新节点链路权重\n",
    "        '''\n",
    "        把inputs_list, targets_list转换成numpy支持的二维矩阵\n",
    "        .T表示做矩阵的转置\n",
    "        '''\n",
    "        inputs = numpy.array(inputs_list, ndmin=2).T\n",
    "        targets = numpy.array(targets_list, ndmin=2).T\n",
    "        #计算信号经过输入层后产生的信号量\n",
    "        hidden_inputs = numpy.dot(self.wih, inputs)\n",
    "        #中间层神经元对输入的信号做激活函数后得到输出信号\n",
    "        #sigmoid 激活函数对应于scipy.special.expit(x)\n",
    "        sigmoid = lambda x:scipy.special.expit(x)\n",
    "        hidden_outputs = sigmoid(hidden_inputs)\n",
    "        #输出层接收来自中间层的信号量\n",
    "        final_inputs = numpy.dot(self.who, hidden_outputs)\n",
    "        #输出层对信号量进行激活函数后得到最终输出信号\n",
    "        final_outputs = sigmoid(final_inputs)\n",
    "        \n",
    "        #2,计算误差\n",
    "        output_errors = targets - final_outputs\n",
    "        #3, 反向传播误差\n",
    "        hidden_errors = numpy.dot(self.who.T, output_errors)\n",
    "        #4，根据误差计算链路权重的更新量，然后把更新加到原来链路权重上\n",
    "        self.who += self.lr * numpy.dot((output_errors * final_outputs *(1 - final_outputs)),\n",
    "                                       numpy.transpose(hidden_outputs))\n",
    "        \n",
    "        self.wih += self.lr * numpy.dot((hidden_errors * hidden_outputs * (1 - hidden_outputs)),\n",
    "                                       numpy.transpose(inputs))\n",
    "        pass\n",
    "    def  evaluate(self, inputs):\n",
    "        '''\n",
    "        输入新数据，网络给出对新数据的判断结果,inputs对应输入信号量。\n",
    "        '''\n",
    "        hidden_inputs = numpy.dot(self.wih, inputs)\n",
    "        #sigmoid 激活函数对应于scipy.special.expit(x)\n",
    "        sigmoid = lambda x:scipy.special.expit(x)\n",
    "        hidden_outputs = sigmoid(hidden_inputs)\n",
    "        \n",
    "        #计算输出层神经元接收到的信号量\n",
    "        final_inputs = numpy.dot(self.who, hidden_outputs)\n",
    "        #调用sigmoid函数计算最外层神经元的输出信号\n",
    "        final_outputs = sigmoid(final_inputs)\n",
    "        \n",
    "        return final_outputs\n",
    "        pass\n",
    "    "
   ]
  },
  {
   "cell_type": "code",
   "execution_count": 19,
   "metadata": {},
   "outputs": [],
   "source": [
    "from keras.datasets import mnist\n",
    "(train_images, train_labels),(test_images, test_labels) = mnist.load_data()\n"
   ]
  },
  {
   "cell_type": "code",
   "execution_count": 17,
   "metadata": {},
   "outputs": [],
   "source": [
    "from keras.utils import to_categorical\n",
    "\n",
    "train_images = train_images.reshape((60000, 28*28))\n",
    "train_images = train_images.astype('float32') / 255\n",
    "\n",
    "test_images = test_images.reshape(10000, 28*28)\n",
    "test_images = test_images.astype('float32') / 255\n",
    "\n",
    "train_labels = to_categorical(train_labels)\n",
    "test_labels = to_categorical(test_labels)\n",
    "\n"
   ]
  },
  {
   "cell_type": "code",
   "execution_count": 47,
   "metadata": {},
   "outputs": [],
   "source": [
    "#初始化网络\n",
    "input_nodes = 784\n",
    "hidden_nodes = 100\n",
    "output_nodes = 10\n",
    "learning_rate = 0.3\n",
    "n = NeuralNetWork(input_nodes, hidden_nodes, output_nodes, learning_rate)\n",
    "for train_image, train_label in zip(train_images, train_labels):\n",
    "    n.fit(train_image, train_label)\n"
   ]
  },
  {
   "cell_type": "code",
   "execution_count": 48,
   "metadata": {},
   "outputs": [
    {
     "name": "stdout",
     "output_type": "stream",
     "text": [
      "performace =  0.9428\n"
     ]
    }
   ],
   "source": [
    "scores = []\n",
    "count = 10\n",
    "for test_image, test_label in zip(test_images, test_labels):\n",
    "    output = n.evaluate(test_image)\n",
    "    evaluate_label = numpy.argmax(output)\n",
    "    correct_label = numpy.argmax(test_label)\n",
    "    if evaluate_label == correct_label:\n",
    "        scores.append(1)\n",
    "    else:\n",
    "        scores.append(0)\n",
    "scores_array = numpy.asarray(scores)\n",
    "print(\"performace = \", scores_array.sum() / scores_array.size)"
   ]
  },
  {
   "cell_type": "code",
   "execution_count": 56,
   "metadata": {},
   "outputs": [
    {
     "data": {
      "text/plain": [
       "<matplotlib.image.AxesImage at 0xb2d8d4c50>"
      ]
     },
     "execution_count": 56,
     "metadata": {},
     "output_type": "execute_result"
    },
    {
     "data": {
      "image/png": "[encoded data removed]",
      "text/plain": [
       "<Figure size 432x288 with 1 Axes>"
      ]
     },
     "metadata": {},
     "output_type": "display_data"
    }
   ],
   "source": [
    "import matplotlib.pyplot as py\n",
    "(train_images, train_labels),(test_images, test_labels) = mnist.load_data()\n",
    "image = test_images[0]\n",
    "py.imshow(image, cmap='Greys', interpolation='None')"
   ]
  },
  {
   "cell_type": "code",
   "execution_count": 57,
   "metadata": {},
   "outputs": [
    {
     "name": "stdout",
     "output_type": "stream",
     "text": [
      "[1.16034760e-06 6.40368935e-06 1.40493558e-03 4.53424560e-04\n",
      " 7.56356713e-08 6.90763528e-06 2.65327264e-09 9.99900703e-01\n",
      " 1.61420548e-07 4.67405406e-05]\n",
      "number of image is:  7\n"
     ]
    }
   ],
   "source": [
    "test_images = test_images.reshape(10000, 28*28)\n",
    "test_images = test_images.astype('float32') / 255\n",
    "result = n.evaluate(test_images[0])\n",
    "print(result)\n",
    "print(\"number of image is: \", numpy.argmax(result))"
   ]
  },
  {
   "cell_type": "code",
   "execution_count": null,
   "metadata": {},
   "outputs": [],
   "source": []
  }
 ],
 "metadata": {
  "kernelspec": {
   "display_name": "Python 3",
   "language": "python",
   "name": "python3"
  },
  "language_info": {
   "codemirror_mode": {
    "name": "ipython",
    "version": 3
   },
   "file_extension": ".py",
   "mimetype": "text/x-python",
   "name": "python",
   "nbconvert_exporter": "python",
   "pygments_lexer": "ipython3",
   "version": "3.7.2"
  }
 },
 "nbformat": 4,
 "nbformat_minor": 2
}
