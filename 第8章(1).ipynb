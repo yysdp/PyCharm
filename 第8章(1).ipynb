{
 "cells": [
  {
   "cell_type": "code",
   "execution_count": 2,
   "metadata": {},
   "outputs": [
    {
     "name": "stdout",
     "output_type": "stream",
     "text": [
      "The -> [0. 1. 0. 0. 0. 0. 0. 0. 0. 0.]\n",
      "cat -> [0. 0. 1. 0. 0. 0. 0. 0. 0. 0.]\n",
      "jump -> [0. 0. 0. 1. 0. 0. 0. 0. 0. 0.]\n",
      "over -> [0. 0. 0. 0. 1. 0. 0. 0. 0. 0.]\n",
      "the -> [0. 0. 0. 0. 0. 1. 0. 0. 0. 0.]\n",
      "dog -> [0. 0. 0. 0. 0. 0. 1. 0. 0. 0.]\n",
      "The -> [0. 1. 0. 0. 0. 0. 0. 0. 0. 0.]\n",
      "dog -> [0. 0. 0. 0. 0. 0. 1. 0. 0. 0.]\n",
      "ate -> [0. 0. 0. 0. 0. 0. 0. 1. 0. 0.]\n",
      "my -> [0. 0. 0. 0. 0. 0. 0. 0. 1. 0.]\n",
      "homework -> [0. 0. 0. 0. 0. 0. 0. 0. 0. 1.]\n"
     ]
    }
   ],
   "source": [
    "import numpy as np\n",
    "samples = ['The cat jump over the dog', 'The dog ate my homework']\n",
    "\n",
    "#我们先将每个单词放置到一个哈希表中\n",
    "token_index = {}\n",
    "for sample in samples:\n",
    "    #将一个句子分解成多个单词\n",
    "    for word in sample.split():\n",
    "        if word not in token_index:\n",
    "            token_index[word] = len(token_index) + 1\n",
    "            \n",
    "#设置句子的最大长度\n",
    "max_length = 10\n",
    "results = np.zeros((len(samples), max_length, max(token_index.values()) + 1))\n",
    "for i, sample in enumerate(samples):\n",
    "    for j, word in list(enumerate(sample.split()))[: max_length]:\n",
    "        index = token_index.get(word)\n",
    "        results[i, j, index] = 1.\n",
    "        print(\"{0} -> {1}\".format(word, results[i, j]))"
   ]
  },
  {
   "cell_type": "code",
   "execution_count": 3,
   "metadata": {},
   "outputs": [
    {
     "name": "stderr",
     "output_type": "stream",
     "text": [
      "Using TensorFlow backend.\n",
      "/anaconda3/lib/python3.7/importlib/_bootstrap.py:219: RuntimeWarning: compiletime version 3.6 of module 'tensorflow.python.framework.fast_tensor_util' does not match runtime version 3.7\n",
      "  return f(*args, **kwds)\n"
     ]
    },
    {
     "name": "stdout",
     "output_type": "stream",
     "text": [
      "[[1, 3, 4, 5, 1, 2], [1, 2, 6, 7, 8]]\n"
     ]
    }
   ],
   "source": [
    "from keras.preprocessing.text import Tokenizer\n",
    "\n",
    "def oneHotEncode(samples):\n",
    "    #只考虑最常使用的前1000个单词\n",
    "    tokenizer = Tokenizer(num_words = 1000)\n",
    "    tokenizer.fit_on_texts(samples)\n",
    "    #把句子分解成单词数组\n",
    "    sequences = tokenizer.texts_to_sequences(samples)\n",
    "    return sequences\n",
    "\n",
    "samples = ['The cat jump over the dog', 'The dog ate my homework']\n",
    "vecs = oneHotEncode(samples)\n",
    "print(vecs)"
   ]
  },
  {
   "cell_type": "code",
   "execution_count": 4,
   "metadata": {},
   "outputs": [
    {
     "name": "stdout",
     "output_type": "stream",
     "text": [
      "[[3, 4], [5, 1], [6, 2], [7, 1], [8], [9], [10, 2], [11, 12], [13, 14, 15], [16, 17, 18]]\n",
      "[[ 3  4  0  0]\n",
      " [ 5  1  0  0]\n",
      " [ 6  2  0  0]\n",
      " [ 7  1  0  0]\n",
      " [ 8  0  0  0]\n",
      " [ 9  0  0  0]\n",
      " [10  2  0  0]\n",
      " [11 12  0  0]\n",
      " [13 14 15  0]\n",
      " [16 17 18  0]]\n",
      "vector for word Well before train is:\n",
      "[-0.02657006  0.0383096   0.02233554  0.04059597  0.04437181 -0.02838534\n",
      " -0.0444255  -0.0069304 ]\n",
      "_________________________________________________________________\n",
      "Layer (type)                 Output Shape              Param #   \n",
      "=================================================================\n",
      "embedding_1 (Embedding)      (None, 4, 8)              400       \n",
      "_________________________________________________________________\n",
      "flatten_1 (Flatten)          (None, 32)                0         \n",
      "_________________________________________________________________\n",
      "dense_1 (Dense)              (None, 1)                 33        \n",
      "=================================================================\n",
      "Total params: 433\n",
      "Trainable params: 433\n",
      "Non-trainable params: 0\n",
      "_________________________________________________________________\n",
      "None\n",
      "vector for word Well after train is:\n",
      "[ 0.02029728  0.08796163  0.07180729  0.09126519  0.00623555  0.02031653\n",
      "  0.00421494 -0.06096628]\n"
     ]
    }
   ],
   "source": [
    "from numpy import array\n",
    "from keras.preprocessing.text import one_hot\n",
    "from keras.preprocessing.sequence import pad_sequences\n",
    "from keras.models import Sequential\n",
    "from keras.layers import Dense\n",
    "from keras.layers import Flatten\n",
    "from keras.layers.embeddings import Embedding\n",
    "# 定义一系列简单文本，前一半表示赞美，后一半表示批判\n",
    "docs = ['Well done',\n",
    "'Good work',\n",
    "'Great effort',\n",
    "'nice work',\n",
    "'Excellent',\n",
    "'Weak',\n",
    "'Poor effort',\n",
    "'quit bad',\n",
    "'it is terrible',\n",
    "'like a shit']\n",
    "# 属于赞美性质的文本用1表示，属于匹配性质的文本用0表示\n",
    "labels = array([1,1,1,1,1,0,0,0,0,0])\n",
    "# 假定单词量有50个\n",
    "vocab_size = 50\n",
    "\n",
    "encoded_docs = oneHotEncode(docs)\n",
    "print(encoded_docs)\n",
    "# 规定每个文本4个单词，不足4个的用0补足\n",
    "max_length = 4\n",
    "padded_docs = pad_sequences(encoded_docs, maxlen=max_length, padding='post')\n",
    "print(padded_docs)\n",
    "\n",
    "model = Sequential()\n",
    "'''\n",
    "Embedding层本质上是一个矩阵，高位vocab_size, 宽为8，矩阵的每一行对应每个单词向量\n",
    "由于我们设定每篇文本的单词量为4个，每个单词对应一个8元素的向量，\n",
    "因此我们把一篇文本对应的向量也就是一个含有4个元素的向量输入Embedding层后，\n",
    "得到4*8的一个二维矩阵，其中的4对应输入文本向量中元素个数，8对应每个单词的向量维度\n",
    "'''\n",
    "emebdding_layer = Embedding(vocab_size, 8, input_length=max_length)\n",
    "model.add(emebdding_layer)\n",
    "\n",
    "print(\"vector for word Well before train is:\")\n",
    "print(emebdding_layer.get_weights()[0][0])\n",
    "\n",
    "model.add(Flatten())\n",
    "model.add(Dense(1, activation='sigmoid'))\n",
    "\n",
    "model.compile(optimizer='adam', loss='binary_crossentropy', metrics=['acc'])\n",
    "\n",
    "print(model.summary())\n",
    "# 训练网络\n",
    "model.fit(padded_docs, labels, epochs=50, verbose=0)\n",
    "\n",
    "print(\"vector for word Well after train is:\")\n",
    "print(emebdding_layer.get_weights()[0][0])"
   ]
  },
  {
   "cell_type": "code",
   "execution_count": 5,
   "metadata": {},
   "outputs": [
    {
     "name": "stdout",
     "output_type": "stream",
     "text": [
      "Well => 3\n",
      "done => 4\n",
      "Good => 5\n",
      "work => 1\n",
      "Great => 6\n",
      "effort => 2\n",
      "nice => 7\n",
      "work => 1\n",
      "Excellent => 8\n",
      "Weak => 9\n",
      "Poor => 10\n",
      "effort => 2\n",
      "quit => 11\n",
      "bad => 12\n",
      "it => 13\n",
      "is => 14\n",
      "terrible => 15\n",
      "like => 16\n",
      "a => 17\n",
      "shit => 18\n",
      "Well => [-0.06035617 -0.09605784 -0.00366253  0.02276089  0.07790188  0.09377208\n",
      "  0.04197539 -0.05284381]\n",
      "done => [ 0.05714667  0.05540325  0.05225036  0.0978943  -0.00073306  0.03376441\n",
      "  0.02740954 -0.00794439]\n",
      "Good => [-0.0802986  -0.03346889 -0.06513028  0.07619027  0.06500677  0.05002201\n",
      "  0.08673604 -0.0644387 ]\n",
      "work => [ 0.06323677  0.05835621  0.02338395  0.08516317  0.0406943   0.09516043\n",
      "  0.06901971 -0.08673722]\n",
      "Great => [-0.02533222 -0.04910561 -0.09314691  0.06871016  0.07945779  0.05575632\n",
      "  0.06508854 -0.0265587 ]\n",
      "effort => [-0.04288376  0.00628933 -0.0250146   0.01110729  0.00334438 -0.0377573\n",
      " -0.05183166 -0.00887822]\n",
      "nice => [-0.05611075 -0.03740417 -0.00318421  0.01730423  0.07851893  0.06143999\n",
      "  0.00638593 -0.0932235 ]\n",
      "Excellent => [-0.02988222 -0.07680901 -0.07694566  0.06394669  0.02456042  0.08461493\n",
      "  0.02805477 -0.02199096]\n",
      "Weak => [ 0.04098083  0.0796977   0.01955718 -0.03530695 -0.02911615 -0.05591336\n",
      " -0.06156853  0.02910208]\n",
      "Poor => [ 0.03196639  0.06094598  0.0753082  -0.05791821 -0.01170554 -0.00347929\n",
      " -0.03958426  0.02133417]\n",
      "quit => [ 0.07525243  0.0177199   0.09455036 -0.04428004 -0.03467156 -0.05213312\n",
      " -0.07153972  0.04040259]\n",
      "bad => [-0.02699818 -0.03042677 -0.00594728 -0.02891698 -0.06795537 -0.08749422\n",
      " -0.02512777  0.04186527]\n",
      "it => [ 0.07253951  0.04725323  0.08748689 -0.01082779 -0.09038936 -0.05613053\n",
      " -0.01304772  0.06552664]\n",
      "is => [-0.07588393 -0.03065093 -0.01110041 -0.00996723 -0.00123209 -0.01839352\n",
      " -0.03967841  0.01140342]\n",
      "terrible => [-0.08169731 -0.07830566 -0.04371172 -0.08192898  0.03036791 -0.02873711\n",
      " -0.07577991  0.10490891]\n",
      "like => [ 0.00165615  0.01550346  0.02401165 -0.03062292 -0.09456697 -0.05168568\n",
      " -0.050421    0.00435317]\n",
      "a => [-0.09534633 -0.00720334 -0.02011066 -0.0331015  -0.026426   -0.01502214\n",
      " -0.08617847  0.04693187]\n",
      "shit => [-0.02401799 -0.09868474 -0.05805528 -0.0351917  -0.02166894 -0.07850341\n",
      " -0.0534867   0.02826256]\n"
     ]
    }
   ],
   "source": [
    "from sklearn.manifold import TSNE\n",
    "import matplotlib.pyplot as plt\n",
    "#建立单词与编号之间的对应关系\n",
    "word2Num = {}\n",
    "for idx, doc in enumerate(docs):\n",
    "    words = doc.split()\n",
    "    for i, word in enumerate(words):\n",
    "        print(\"{0} => {1}\".format(word, encoded_docs[idx][i]))\n",
    "        word2Num[word] = encoded_docs[idx][i]\n",
    "\n",
    "embeddings = emebdding_layer.get_weights()[0]\n",
    "#建立单词与向量之间的连续\n",
    "vectors = []\n",
    "words = []\n",
    "for word, num in word2Num.items():\n",
    "    print(\"{0} => {1}\".format(word, embeddings[num]))\n",
    "    words.append(word)\n",
    "    vectors.append(embeddings[num])\n",
    "    "
   ]
  },
  {
   "cell_type": "code",
   "execution_count": 6,
   "metadata": {},
   "outputs": [
    {
     "data": {
      "image/png": "[encoded data removed]",
      "text/plain": [
       "<Figure size 1152x1152 with 1 Axes>"
      ]
     },
     "metadata": {
      "needs_background": "light"
     },
     "output_type": "display_data"
    }
   ],
   "source": [
    "tsne_model = TSNE(perplexity=40, n_components=2, init='pca', n_iter=2500, random_state=23)\n",
    "new_values = tsne_model.fit_transform(vectors)\n",
    "\n",
    "x = []\n",
    "y = []\n",
    "for value in new_values:\n",
    "    x.append(value[0])\n",
    "    y.append(value[1])\n",
    "\n",
    "plt.figure(figsize=(16, 16))\n",
    "for i in range(len(x)):\n",
    "    plt.scatter(x[i], y[i])\n",
    "    plt.annotate(words[i], xy=(x[i], y[i]), xytext=(5,2), textcoords='offset points',\n",
    "                ha='right',va='bottom')\n",
    "plt.show()"
   ]
  },
  {
   "cell_type": "code",
   "execution_count": 7,
   "metadata": {
    "scrolled": true
   },
   "outputs": [
    {
     "name": "stderr",
     "output_type": "stream",
     "text": [
      "/anaconda3/lib/python3.7/site-packages/ipykernel_launcher.py:10: MatplotlibDeprecationWarning: scipy.stats.norm.pdf\n",
      "  # Remove the CWD from sys.path while we load stuff.\n"
     ]
    },
    {
     "data": {
      "image/png": "[encoded data removed]",
      "text/plain": [
       "<Figure size 432x288 with 1 Axes>"
      ]
     },
     "metadata": {
      "needs_background": "light"
     },
     "output_type": "display_data"
    }
   ],
   "source": [
    "import matplotlib.pyplot as plt\n",
    "import numpy as np\n",
    "import matplotlib.mlab as mlab\n",
    "import math\n",
    "\n",
    "mu = 0\n",
    "variance = 1\n",
    "sigma = math.sqrt(variance)\n",
    "x = np.linspace(mu - 3*sigma, mu + 3*sigma, 100)\n",
    "plt.plot(x, mlab.normpdf(x, mu, sigma))\n",
    "plt.show()"
   ]
  },
  {
   "cell_type": "code",
   "execution_count": 8,
   "metadata": {},
   "outputs": [
    {
     "data": {
      "text/plain": [
       "[<matplotlib.lines.Line2D at 0x1a2ad7de10>]"
      ]
     },
     "execution_count": 8,
     "metadata": {},
     "output_type": "execute_result"
    },
    {
     "data": {
      "image/png": "[encoded data removed]",
      "text/plain": [
       "<Figure size 432x288 with 1 Axes>"
      ]
     },
     "metadata": {
      "needs_background": "light"
     },
     "output_type": "display_data"
    }
   ],
   "source": [
    "import scipy, scipy.stats\n",
    "x = scipy.linspace(0,10,11)\n",
    "pmf = scipy.stats.binom.pmf(x,10,0.5)\n",
    "import pylab\n",
    "pylab.plot(x,pmf)"
   ]
  },
  {
   "cell_type": "code",
   "execution_count": 9,
   "metadata": {},
   "outputs": [
    {
     "ename": "ValueError",
     "evalue": "Expected object or value",
     "output_type": "error",
     "traceback": [
      "\u001b[0;31m---------------------------------------------------------------------------\u001b[0m",
      "\u001b[0;31mValueError\u001b[0m                                Traceback (most recent call last)",
      "\u001b[0;32m<ipython-input-9-766560ca5d2d>\u001b[0m in \u001b[0;36m<module>\u001b[0;34m()\u001b[0m\n\u001b[1;32m      1\u001b[0m \u001b[0;32mimport\u001b[0m \u001b[0mpandas\u001b[0m \u001b[0;32mas\u001b[0m \u001b[0mpd\u001b[0m\u001b[0;34m\u001b[0m\u001b[0;34m\u001b[0m\u001b[0m\n\u001b[0;32m----> 2\u001b[0;31m \u001b[0mdf\u001b[0m \u001b[0;34m=\u001b[0m \u001b[0mpd\u001b[0m\u001b[0;34m.\u001b[0m\u001b[0mread_json\u001b[0m\u001b[0;34m(\u001b[0m\u001b[0;34m'/Users/chenyi/Documents/人工智能出书/数据集/第6章/News_Category_Dataset.json'\u001b[0m\u001b[0;34m,\u001b[0m \u001b[0mlines\u001b[0m\u001b[0;34m=\u001b[0m\u001b[0;32mTrue\u001b[0m\u001b[0;34m)\u001b[0m\u001b[0;34m\u001b[0m\u001b[0;34m\u001b[0m\u001b[0m\n\u001b[0m\u001b[1;32m      3\u001b[0m \u001b[0mdf\u001b[0m\u001b[0;34m.\u001b[0m\u001b[0mhead\u001b[0m\u001b[0;34m(\u001b[0m\u001b[0;34m)\u001b[0m\u001b[0;34m\u001b[0m\u001b[0;34m\u001b[0m\u001b[0m\n",
      "\u001b[0;32m/anaconda3/lib/python3.7/site-packages/pandas/io/json/json.py\u001b[0m in \u001b[0;36mread_json\u001b[0;34m(path_or_buf, orient, typ, dtype, convert_axes, convert_dates, keep_default_dates, numpy, precise_float, date_unit, encoding, lines, chunksize, compression)\u001b[0m\n\u001b[1;32m    420\u001b[0m         \u001b[0;32mreturn\u001b[0m \u001b[0mjson_reader\u001b[0m\u001b[0;34m\u001b[0m\u001b[0;34m\u001b[0m\u001b[0m\n\u001b[1;32m    421\u001b[0m \u001b[0;34m\u001b[0m\u001b[0m\n\u001b[0;32m--> 422\u001b[0;31m     \u001b[0mresult\u001b[0m \u001b[0;34m=\u001b[0m \u001b[0mjson_reader\u001b[0m\u001b[0;34m.\u001b[0m\u001b[0mread\u001b[0m\u001b[0;34m(\u001b[0m\u001b[0;34m)\u001b[0m\u001b[0;34m\u001b[0m\u001b[0;34m\u001b[0m\u001b[0m\n\u001b[0m\u001b[1;32m    423\u001b[0m     \u001b[0;32mif\u001b[0m \u001b[0mshould_close\u001b[0m\u001b[0;34m:\u001b[0m\u001b[0;34m\u001b[0m\u001b[0;34m\u001b[0m\u001b[0m\n\u001b[1;32m    424\u001b[0m         \u001b[0;32mtry\u001b[0m\u001b[0;34m:\u001b[0m\u001b[0;34m\u001b[0m\u001b[0;34m\u001b[0m\u001b[0m\n",
      "\u001b[0;32m/anaconda3/lib/python3.7/site-packages/pandas/io/json/json.py\u001b[0m in \u001b[0;36mread\u001b[0;34m(self)\u001b[0m\n\u001b[1;32m    524\u001b[0m             \u001b[0mdata\u001b[0m \u001b[0;34m=\u001b[0m \u001b[0mto_str\u001b[0m\u001b[0;34m(\u001b[0m\u001b[0mself\u001b[0m\u001b[0;34m.\u001b[0m\u001b[0mdata\u001b[0m\u001b[0;34m)\u001b[0m\u001b[0;34m\u001b[0m\u001b[0;34m\u001b[0m\u001b[0m\n\u001b[1;32m    525\u001b[0m             obj = self._get_object_parser(\n\u001b[0;32m--> 526\u001b[0;31m                 \u001b[0mself\u001b[0m\u001b[0;34m.\u001b[0m\u001b[0m_combine_lines\u001b[0m\u001b[0;34m(\u001b[0m\u001b[0mdata\u001b[0m\u001b[0;34m.\u001b[0m\u001b[0msplit\u001b[0m\u001b[0;34m(\u001b[0m\u001b[0;34m'\\n'\u001b[0m\u001b[0;34m)\u001b[0m\u001b[0;34m)\u001b[0m\u001b[0;34m\u001b[0m\u001b[0;34m\u001b[0m\u001b[0m\n\u001b[0m\u001b[1;32m    527\u001b[0m             )\n\u001b[1;32m    528\u001b[0m         \u001b[0;32melse\u001b[0m\u001b[0;34m:\u001b[0m\u001b[0;34m\u001b[0m\u001b[0;34m\u001b[0m\u001b[0m\n",
      "\u001b[0;32m/anaconda3/lib/python3.7/site-packages/pandas/io/json/json.py\u001b[0m in \u001b[0;36m_get_object_parser\u001b[0;34m(self, json)\u001b[0m\n\u001b[1;32m    544\u001b[0m         \u001b[0mobj\u001b[0m \u001b[0;34m=\u001b[0m \u001b[0;32mNone\u001b[0m\u001b[0;34m\u001b[0m\u001b[0;34m\u001b[0m\u001b[0m\n\u001b[1;32m    545\u001b[0m         \u001b[0;32mif\u001b[0m \u001b[0mtyp\u001b[0m \u001b[0;34m==\u001b[0m \u001b[0;34m'frame'\u001b[0m\u001b[0;34m:\u001b[0m\u001b[0;34m\u001b[0m\u001b[0;34m\u001b[0m\u001b[0m\n\u001b[0;32m--> 546\u001b[0;31m             \u001b[0mobj\u001b[0m \u001b[0;34m=\u001b[0m \u001b[0mFrameParser\u001b[0m\u001b[0;34m(\u001b[0m\u001b[0mjson\u001b[0m\u001b[0;34m,\u001b[0m \u001b[0;34m**\u001b[0m\u001b[0mkwargs\u001b[0m\u001b[0;34m)\u001b[0m\u001b[0;34m.\u001b[0m\u001b[0mparse\u001b[0m\u001b[0;34m(\u001b[0m\u001b[0;34m)\u001b[0m\u001b[0;34m\u001b[0m\u001b[0;34m\u001b[0m\u001b[0m\n\u001b[0m\u001b[1;32m    547\u001b[0m \u001b[0;34m\u001b[0m\u001b[0m\n\u001b[1;32m    548\u001b[0m         \u001b[0;32mif\u001b[0m \u001b[0mtyp\u001b[0m \u001b[0;34m==\u001b[0m \u001b[0;34m'series'\u001b[0m \u001b[0;32mor\u001b[0m \u001b[0mobj\u001b[0m \u001b[0;32mis\u001b[0m \u001b[0;32mNone\u001b[0m\u001b[0;34m:\u001b[0m\u001b[0;34m\u001b[0m\u001b[0;34m\u001b[0m\u001b[0m\n",
      "\u001b[0;32m/anaconda3/lib/python3.7/site-packages/pandas/io/json/json.py\u001b[0m in \u001b[0;36mparse\u001b[0;34m(self)\u001b[0m\n\u001b[1;32m    636\u001b[0m \u001b[0;34m\u001b[0m\u001b[0m\n\u001b[1;32m    637\u001b[0m         \u001b[0;32melse\u001b[0m\u001b[0;34m:\u001b[0m\u001b[0;34m\u001b[0m\u001b[0;34m\u001b[0m\u001b[0m\n\u001b[0;32m--> 638\u001b[0;31m             \u001b[0mself\u001b[0m\u001b[0;34m.\u001b[0m\u001b[0m_parse_no_numpy\u001b[0m\u001b[0;34m(\u001b[0m\u001b[0;34m)\u001b[0m\u001b[0;34m\u001b[0m\u001b[0;34m\u001b[0m\u001b[0m\n\u001b[0m\u001b[1;32m    639\u001b[0m \u001b[0;34m\u001b[0m\u001b[0m\n\u001b[1;32m    640\u001b[0m         \u001b[0;32mif\u001b[0m \u001b[0mself\u001b[0m\u001b[0;34m.\u001b[0m\u001b[0mobj\u001b[0m \u001b[0;32mis\u001b[0m \u001b[0;32mNone\u001b[0m\u001b[0;34m:\u001b[0m\u001b[0;34m\u001b[0m\u001b[0;34m\u001b[0m\u001b[0m\n",
      "\u001b[0;32m/anaconda3/lib/python3.7/site-packages/pandas/io/json/json.py\u001b[0m in \u001b[0;36m_parse_no_numpy\u001b[0;34m(self)\u001b[0m\n\u001b[1;32m    851\u001b[0m         \u001b[0;32mif\u001b[0m \u001b[0morient\u001b[0m \u001b[0;34m==\u001b[0m \u001b[0;34m\"columns\"\u001b[0m\u001b[0;34m:\u001b[0m\u001b[0;34m\u001b[0m\u001b[0;34m\u001b[0m\u001b[0m\n\u001b[1;32m    852\u001b[0m             self.obj = DataFrame(\n\u001b[0;32m--> 853\u001b[0;31m                 loads(json, precise_float=self.precise_float), dtype=None)\n\u001b[0m\u001b[1;32m    854\u001b[0m         \u001b[0;32melif\u001b[0m \u001b[0morient\u001b[0m \u001b[0;34m==\u001b[0m \u001b[0;34m\"split\"\u001b[0m\u001b[0;34m:\u001b[0m\u001b[0;34m\u001b[0m\u001b[0;34m\u001b[0m\u001b[0m\n\u001b[1;32m    855\u001b[0m             decoded = {str(k): v for k, v in compat.iteritems(\n",
      "\u001b[0;31mValueError\u001b[0m: Expected object or value"
     ]
    }
   ],
   "source": [
    "import pandas as pd\n",
    "df = pd.read_json('/Users/chenyi/Documents/人工智能出书/数据集/第6章/News_Category_Dataset.json', lines=True)\n",
    "df.head()"
   ]
  },
  {
   "cell_type": "code",
   "execution_count": 111,
   "metadata": {},
   "outputs": [
    {
     "name": "stdout",
     "output_type": "stream",
     "text": [
      "total categories:  30\n",
      "category\n",
      "ARTS               1509\n",
      "ARTS & CULTURE     1339\n",
      "BLACK VOICES       3858\n",
      "BUSINESS           4254\n",
      "COLLEGE            1144\n",
      "COMEDY             3971\n",
      "CRIME              2893\n",
      "EDUCATION          1004\n",
      "ENTERTAINMENT     14257\n",
      "FIFTY              1401\n",
      "GOOD NEWS          1398\n",
      "GREEN              2622\n",
      "HEALTHY LIVING     6694\n",
      "IMPACT             2602\n",
      "LATINO VOICES      1129\n",
      "MEDIA              2815\n",
      "PARENTS            3955\n",
      "POLITICS          32739\n",
      "QUEER VOICES       4995\n",
      "RELIGION           2556\n",
      "SCIENCE            1381\n",
      "SPORTS             4167\n",
      "STYLE              2254\n",
      "TASTE              2096\n",
      "TECH               1231\n",
      "TRAVEL             2145\n",
      "WEIRD NEWS         2670\n",
      "WOMEN              3490\n",
      "WORLD NEWS         2177\n",
      "WORLDPOST          6243\n",
      "dtype: int64\n"
     ]
    }
   ],
   "source": [
    "df.category = df.category.map(lambda x:\"WORLDPOST\" if x == \"THE WORLDPOST\" else x)\n",
    "categories = df.groupby('category')\n",
    "print(\"total categories: \", categories.ngroups)\n",
    "print(categories.size())"
   ]
  },
  {
   "cell_type": "code",
   "execution_count": 112,
   "metadata": {},
   "outputs": [
    {
     "data": {
      "text/plain": [
       "count    124068.000000\n",
       "mean         26.128422\n",
       "std          14.366390\n",
       "min           5.000000\n",
       "25%          17.000000\n",
       "50%          24.000000\n",
       "75%          32.000000\n",
       "max         248.000000\n",
       "Name: word_length, dtype: float64"
      ]
     },
     "execution_count": 112,
     "metadata": {},
     "output_type": "execute_result"
    }
   ],
   "source": [
    "from keras.preprocessing import sequence\n",
    "from keras.preprocessing.text import Tokenizer, text_to_word_sequence, one_hot\n",
    "df['text'] = df.headline + \" \" + df.short_description\n",
    "\n",
    "# 将单词进行标号\n",
    "tokenizer = Tokenizer()\n",
    "tokenizer.fit_on_texts(df.text)\n",
    "X = tokenizer.texts_to_sequences(df.text)\n",
    "df['words'] = X\n",
    "\n",
    "#记录每条数据的单词数\n",
    "df['word_length'] = df.words.apply(lambda i: len(i))\n",
    "#清除单词数不足5个的数据条目\n",
    "df = df[df.word_length >= 5]\n",
    "df.word_length.describe()"
   ]
  },
  {
   "cell_type": "code",
   "execution_count": 133,
   "metadata": {},
   "outputs": [],
   "source": [
    "maxlen = 50\n",
    "X = list(sequence.pad_sequences(df.words, maxlen=maxlen))\n",
    "\n",
    "# 将分类进行编号\n",
    "categories = df.groupby('category').size().index.tolist()\n",
    "category_int = {}\n",
    "int_category = {}\n",
    "for i, k in enumerate(categories):\n",
    "    category_int.update({k:i})\n",
    "    int_category.update({i:k})\n",
    "\n",
    "df['c2id'] = df['category'].apply(lambda x: category_int[x])"
   ]
  },
  {
   "cell_type": "code",
   "execution_count": 134,
   "metadata": {},
   "outputs": [],
   "source": [
    "import numpy as np\n",
    "import keras.utils as utils\n",
    "from sklearn.model_selection import train_test_split\n",
    "import numpy as np\n",
    "\n",
    "\n",
    "\n",
    "X = np.array(X)\n",
    "Y = utils.to_categorical(list(df.c2id))\n",
    "\n",
    "\n",
    "# 将数据分成两部分,80%用于训练，20%用于测试\n",
    "\n",
    "seed = 29\n",
    "x_train, x_val, y_train, y_val = train_test_split(X, Y, test_size=0.2, random_state=seed)\n"
   ]
  },
  {
   "cell_type": "code",
   "execution_count": 1,
   "metadata": {},
   "outputs": [
    {
     "ename": "NameError",
     "evalue": "name 'tokenizer' is not defined",
     "output_type": "error",
     "traceback": [
      "\u001b[0;31m---------------------------------------------------------------------------\u001b[0m",
      "\u001b[0;31mNameError\u001b[0m                                 Traceback (most recent call last)",
      "\u001b[0;32m<ipython-input-1-ba2abc1b6fc1>\u001b[0m in \u001b[0;36m<module>\u001b[0;34m()\u001b[0m\n\u001b[0;32m----> 1\u001b[0;31m \u001b[0mword_index\u001b[0m \u001b[0;34m=\u001b[0m \u001b[0mtokenizer\u001b[0m\u001b[0;34m.\u001b[0m\u001b[0mword_index\u001b[0m\u001b[0;34m\u001b[0m\u001b[0;34m\u001b[0m\u001b[0m\n\u001b[0m\u001b[1;32m      2\u001b[0m \u001b[0;34m\u001b[0m\u001b[0m\n\u001b[1;32m      3\u001b[0m \u001b[0mEMBEDDING_DIM\u001b[0m \u001b[0;34m=\u001b[0m \u001b[0;36m100\u001b[0m\u001b[0;34m\u001b[0m\u001b[0;34m\u001b[0m\u001b[0m\n\u001b[1;32m      4\u001b[0m \u001b[0membeddings_index\u001b[0m \u001b[0;34m=\u001b[0m \u001b[0;34m{\u001b[0m\u001b[0;34m}\u001b[0m\u001b[0;34m\u001b[0m\u001b[0;34m\u001b[0m\u001b[0m\n\u001b[1;32m      5\u001b[0m \u001b[0mf\u001b[0m \u001b[0;34m=\u001b[0m \u001b[0mopen\u001b[0m\u001b[0;34m(\u001b[0m\u001b[0;34m'/Users/chenyi/Documents/人工智能/glove.6B/glove.6B.100d.txt'\u001b[0m\u001b[0;34m)\u001b[0m\u001b[0;34m\u001b[0m\u001b[0;34m\u001b[0m\u001b[0m\n",
      "\u001b[0;31mNameError\u001b[0m: name 'tokenizer' is not defined"
     ]
    }
   ],
   "source": [
    "word_index = tokenizer.word_index\n",
    "\n",
    "EMBEDDING_DIM = 100\n",
    "embeddings_index = {}\n",
    "f = open('/Users/chenyi/Documents/人工智能/glove.6B/glove.6B.100d.txt')\n",
    "for line in f:\n",
    "    values = line.split()\n",
    "    word = values[0]\n",
    "    coefs = np.asarray(values[1:], dtype='float32')\n",
    "    embeddings_index[word] = coefs\n",
    "f.close()\n",
    "\n",
    "print('Total %s word vectors.' %len(embeddings_index))"
   ]
  },
  {
   "cell_type": "code",
   "execution_count": 149,
   "metadata": {},
   "outputs": [],
   "source": [
    "from keras.initializers import Constant\n",
    "\n",
    "embedding_matrix = np.zeros((len(word_index) + 1, EMBEDDING_DIM))\n",
    "for word, i in word_index.items():\n",
    "    embedding_vector = embeddings_index.get(word)\n",
    "    #根据单词挑选出对应向量\n",
    "    if embedding_vector is not None:\n",
    "        embedding_matrix[i] = embedding_vector\n",
    "        \n",
    "     \n",
    "embedding_layer = Embedding(len(word_index)+1, EMBEDDING_DIM, \n",
    "                           embeddings_initializer=Constant(embedding_matrix),\n",
    "                           input_length = maxlen,\n",
    "                            trainable=False\n",
    "                           )"
   ]
  },
  {
   "cell_type": "code",
   "execution_count": 147,
   "metadata": {},
   "outputs": [
    {
     "name": "stdout",
     "output_type": "stream",
     "text": [
      "_________________________________________________________________\n",
      "Layer (type)                 Output Shape              Param #   \n",
      "=================================================================\n",
      "embedding_35 (Embedding)     (None, 50, 100)           8662800   \n",
      "_________________________________________________________________\n",
      "flatten_30 (Flatten)         (None, 5000)              0         \n",
      "_________________________________________________________________\n",
      "dense_44 (Dense)             (None, 64)                320064    \n",
      "_________________________________________________________________\n",
      "dense_45 (Dense)             (None, 30)                1950      \n",
      "=================================================================\n",
      "Total params: 8,984,814\n",
      "Trainable params: 322,014\n",
      "Non-trainable params: 8,662,800\n",
      "_________________________________________________________________\n"
     ]
    }
   ],
   "source": [
    "model = Sequential()\n",
    "model.add(embedding_layer)\n",
    "model.add(Flatten())\n",
    "model.add(layers.Dense(64, activation='relu'))\n",
    "#当结果是输出多个分类的概率时，用softmax激活函数,它将为30个分类提供不同的可能性概率值\n",
    "model.add(layers.Dense(len(int_category), activation='softmax'))\n",
    "\n",
    "#对于输出多个分类结果，最好的损失函数是categorical_crossentropy\n",
    "model.compile(optimizer='rmsprop', loss='categorical_crossentropy', metrics=['accuracy'])\n",
    "model.summary()"
   ]
  },
  {
   "cell_type": "code",
   "execution_count": 148,
   "metadata": {},
   "outputs": [
    {
     "name": "stdout",
     "output_type": "stream",
     "text": [
      "Train on 99254 samples, validate on 24814 samples\n",
      "Epoch 1/20\n",
      "99254/99254 [==============================] - 6s 56us/step - loss: 2.1679 - acc: 0.4149 - val_loss: 1.8760 - val_acc: 0.4746\n",
      "Epoch 2/20\n",
      "99254/99254 [==============================] - 3s 26us/step - loss: 1.7060 - acc: 0.5123 - val_loss: 1.7845 - val_acc: 0.4948\n",
      "Epoch 3/20\n",
      "99254/99254 [==============================] - 3s 31us/step - loss: 1.5265 - acc: 0.5562 - val_loss: 1.7548 - val_acc: 0.4976\n",
      "Epoch 4/20\n",
      "99254/99254 [==============================] - 4s 39us/step - loss: 1.4032 - acc: 0.5863 - val_loss: 1.7547 - val_acc: 0.5069\n",
      "Epoch 5/20\n",
      "99254/99254 [==============================] - 4s 37us/step - loss: 1.3097 - acc: 0.6115 - val_loss: 1.7809 - val_acc: 0.4988\n",
      "Epoch 6/20\n",
      "99254/99254 [==============================] - 3s 35us/step - loss: 1.2281 - acc: 0.6340 - val_loss: 1.7943 - val_acc: 0.5052\n",
      "Epoch 7/20\n",
      "99254/99254 [==============================] - 3s 34us/step - loss: 1.1542 - acc: 0.6559 - val_loss: 1.8075 - val_acc: 0.5045\n",
      "Epoch 8/20\n",
      "99254/99254 [==============================] - 3s 32us/step - loss: 1.0896 - acc: 0.6726 - val_loss: 1.8759 - val_acc: 0.4963\n",
      "Epoch 9/20\n",
      "99254/99254 [==============================] - 4s 36us/step - loss: 1.0317 - acc: 0.6917 - val_loss: 1.8983 - val_acc: 0.4975\n",
      "Epoch 10/20\n",
      "99254/99254 [==============================] - 3s 33us/step - loss: 0.9764 - acc: 0.7068 - val_loss: 1.9928 - val_acc: 0.4838\n",
      "Epoch 11/20\n",
      "99254/99254 [==============================] - 4s 36us/step - loss: 0.9281 - acc: 0.7214 - val_loss: 2.0534 - val_acc: 0.4780\n",
      "Epoch 12/20\n",
      "99254/99254 [==============================] - 3s 35us/step - loss: 0.8806 - acc: 0.7361 - val_loss: 2.0883 - val_acc: 0.4790\n",
      "Epoch 13/20\n",
      "99254/99254 [==============================] - 4s 37us/step - loss: 0.8372 - acc: 0.7502 - val_loss: 2.1518 - val_acc: 0.4884\n",
      "Epoch 14/20\n",
      "99254/99254 [==============================] - 3s 35us/step - loss: 0.7997 - acc: 0.7617 - val_loss: 2.1861 - val_acc: 0.4867\n",
      "Epoch 15/20\n",
      "99254/99254 [==============================] - 3s 32us/step - loss: 0.7608 - acc: 0.7730 - val_loss: 2.2634 - val_acc: 0.4789\n",
      "Epoch 16/20\n",
      "99254/99254 [==============================] - 3s 33us/step - loss: 0.7272 - acc: 0.7839 - val_loss: 2.3401 - val_acc: 0.4780\n",
      "Epoch 17/20\n",
      "99254/99254 [==============================] - 3s 32us/step - loss: 0.6956 - acc: 0.7941 - val_loss: 2.4129 - val_acc: 0.4709\n",
      "Epoch 18/20\n",
      "99254/99254 [==============================] - 3s 33us/step - loss: 0.6629 - acc: 0.8039 - val_loss: 2.4867 - val_acc: 0.4591\n",
      "Epoch 19/20\n",
      "99254/99254 [==============================] - 3s 32us/step - loss: 0.6346 - acc: 0.8126 - val_loss: 2.5484 - val_acc: 0.4681\n",
      "Epoch 20/20\n",
      "99254/99254 [==============================] - 3s 33us/step - loss: 0.6077 - acc: 0.8207 - val_loss: 2.6018 - val_acc: 0.4657\n"
     ]
    }
   ],
   "source": [
    "history = model.fit(x_train, y_train, epochs=20, validation_data=(x_val, y_val), batch_size=512)"
   ]
  },
  {
   "cell_type": "code",
   "execution_count": 152,
   "metadata": {},
   "outputs": [
    {
     "data": {
      "image/png": "[encoded data removed]",
      "text/plain": [
       "<Figure size 432x288 with 1 Axes>"
      ]
     },
     "metadata": {},
     "output_type": "display_data"
    },
    {
     "data": {
      "image/png": "[encoded data removed]",
      "text/plain": [
       "<Figure size 432x288 with 1 Axes>"
      ]
     },
     "metadata": {},
     "output_type": "display_data"
    }
   ],
   "source": [
    "acc = history.history['acc']\n",
    "val_acc = history.history['val_acc']\n",
    "loss = history.history['loss']\n",
    "val_loss = history.history['val_loss']\n",
    "epochs = range(1, len(acc) + 1)\n",
    "\n",
    "plt.title('Training and validation accuracy')\n",
    "plt.plot(epochs, acc, 'red', label='Training acc')\n",
    "plt.plot(epochs, val_acc, 'blue', label='Validation acc')\n",
    "plt.legend()\n",
    "\n",
    "plt.figure()\n",
    "plt.title('Training and validation loss')\n",
    "plt.plot(epochs, loss, 'red', label='Training loss')\n",
    "plt.plot(epochs, val_loss, 'blue', label='Validation loss')\n",
    "plt.legend()\n",
    "\n",
    "plt.show()"
   ]
  },
  {
   "cell_type": "code",
   "execution_count": 158,
   "metadata": {},
   "outputs": [
    {
     "name": "stdout",
     "output_type": "stream",
     "text": [
      "Train on 99254 samples, validate on 24814 samples\n",
      "Epoch 1/20\n",
      "99254/99254 [==============================] - 15s 147us/step - loss: 2.7574 - acc: 0.3031 - val_loss: 2.5640 - val_acc: 0.3442\n",
      "Epoch 2/20\n",
      "99254/99254 [==============================] - 10s 103us/step - loss: 2.5337 - acc: 0.3430 - val_loss: 2.5161 - val_acc: 0.3418\n",
      "Epoch 3/20\n",
      "99254/99254 [==============================] - 11s 110us/step - loss: 2.4556 - acc: 0.3609 - val_loss: 2.4761 - val_acc: 0.3704\n",
      "Epoch 4/20\n",
      "99254/99254 [==============================] - 12s 118us/step - loss: 2.3843 - acc: 0.3727 - val_loss: 2.3353 - val_acc: 0.3851\n",
      "Epoch 5/20\n",
      "99254/99254 [==============================] - 12s 125us/step - loss: 2.3284 - acc: 0.3830 - val_loss: 2.2903 - val_acc: 0.3916\n",
      "Epoch 6/20\n",
      "99254/99254 [==============================] - 13s 128us/step - loss: 2.2816 - acc: 0.3911 - val_loss: 2.2600 - val_acc: 0.3993\n",
      "Epoch 7/20\n",
      "99254/99254 [==============================] - 13s 130us/step - loss: 2.2636 - acc: 0.3919 - val_loss: 2.2839 - val_acc: 0.3857\n",
      "Epoch 8/20\n",
      "99254/99254 [==============================] - 13s 130us/step - loss: 2.2403 - acc: 0.3978 - val_loss: 2.2194 - val_acc: 0.4003\n",
      "Epoch 9/20\n",
      "99254/99254 [==============================] - 13s 134us/step - loss: 2.1943 - acc: 0.4060 - val_loss: 2.2254 - val_acc: 0.3910\n",
      "Epoch 10/20\n",
      "99254/99254 [==============================] - 13s 135us/step - loss: 2.1751 - acc: 0.4119 - val_loss: 2.2021 - val_acc: 0.4118\n",
      "Epoch 11/20\n",
      "99254/99254 [==============================] - 14s 137us/step - loss: 2.1577 - acc: 0.4126 - val_loss: 2.3112 - val_acc: 0.3844\n",
      "Epoch 12/20\n",
      "99254/99254 [==============================] - 14s 138us/step - loss: 2.1463 - acc: 0.4169 - val_loss: 2.1544 - val_acc: 0.4147\n",
      "Epoch 13/20\n",
      "99254/99254 [==============================] - 15s 155us/step - loss: 2.1288 - acc: 0.4200 - val_loss: 2.1716 - val_acc: 0.4144\n",
      "Epoch 14/20\n",
      "99254/99254 [==============================] - 16s 162us/step - loss: 2.1242 - acc: 0.4214 - val_loss: 2.1427 - val_acc: 0.4141\n",
      "Epoch 15/20\n",
      "99254/99254 [==============================] - 17s 175us/step - loss: 2.1137 - acc: 0.4221 - val_loss: 2.0951 - val_acc: 0.4304\n",
      "Epoch 16/20\n",
      "99254/99254 [==============================] - 17s 167us/step - loss: 2.1080 - acc: 0.4260 - val_loss: 2.0949 - val_acc: 0.4284\n",
      "Epoch 17/20\n",
      "99254/99254 [==============================] - 20s 206us/step - loss: 2.0891 - acc: 0.4314 - val_loss: 2.1161 - val_acc: 0.4286\n",
      "Epoch 18/20\n",
      "99254/99254 [==============================] - 20s 199us/step - loss: 2.0811 - acc: 0.4300 - val_loss: 2.0679 - val_acc: 0.4377\n",
      "Epoch 19/20\n",
      "99254/99254 [==============================] - 17s 170us/step - loss: 2.0723 - acc: 0.4364 - val_loss: 2.0744 - val_acc: 0.4373\n",
      "Epoch 20/20\n",
      "99254/99254 [==============================] - 18s 185us/step - loss: 2.0632 - acc: 0.4397 - val_loss: 2.0579 - val_acc: 0.4415\n"
     ]
    }
   ],
   "source": [
    "from keras.layers import SimpleRNN\n",
    "model = Sequential()\n",
    "model.add(embedding_layer)\n",
    "model.add(SimpleRNN(32))\n",
    "#当结果是输出多个分类的概率时，用softmax激活函数,它将为30个分类提供不同的可能性概率值\n",
    "model.add(layers.Dense(len(int_category), activation='softmax'))\n",
    "\n",
    "#对于输出多个分类结果，最好的损失函数是categorical_crossentropy\n",
    "model.compile(optimizer='rmsprop', loss='categorical_crossentropy', metrics=['accuracy'])\n",
    "history = model.fit(x_train, y_train, epochs=20, validation_data=(x_val, y_val), batch_size=512)"
   ]
  },
  {
   "cell_type": "code",
   "execution_count": 159,
   "metadata": {},
   "outputs": [
    {
     "data": {
      "image/png": "[encoded data removed]",
      "text/plain": [
       "<Figure size 432x288 with 1 Axes>"
      ]
     },
     "metadata": {},
     "output_type": "display_data"
    }
   ],
   "source": [
    "acc = history.history['acc']\n",
    "val_acc = history.history['val_acc']\n",
    "loss = history.history['loss']\n",
    "val_loss = history.history['val_loss']\n",
    "epochs = range(1, len(acc) + 1)\n",
    "\n",
    "plt.title('Training and validation accuracy')\n",
    "plt.plot(epochs, acc, 'red', label='Training acc')\n",
    "plt.plot(epochs, val_acc, 'blue', label='Validation acc')\n",
    "plt.legend()\n",
    "plt.show()"
   ]
  },
  {
   "cell_type": "code",
   "execution_count": 160,
   "metadata": {},
   "outputs": [
    {
     "name": "stdout",
     "output_type": "stream",
     "text": [
      "Train on 99254 samples, validate on 24814 samples\n",
      "Epoch 1/20\n",
      "99254/99254 [==============================] - 31s 317us/step - loss: 2.5276 - acc: 0.3465 - val_loss: 2.1794 - val_acc: 0.4249\n",
      "Epoch 2/20\n",
      "99254/99254 [==============================] - 24s 239us/step - loss: 2.0303 - acc: 0.4538 - val_loss: 1.9058 - val_acc: 0.4759\n",
      "Epoch 3/20\n",
      "99254/99254 [==============================] - 25s 248us/step - loss: 1.8169 - acc: 0.4970 - val_loss: 1.7430 - val_acc: 0.5130\n",
      "Epoch 4/20\n",
      "99254/99254 [==============================] - 28s 284us/step - loss: 1.6960 - acc: 0.5260 - val_loss: 1.6655 - val_acc: 0.5297\n",
      "Epoch 5/20\n",
      "99254/99254 [==============================] - 29s 294us/step - loss: 1.6164 - acc: 0.5444 - val_loss: 1.6013 - val_acc: 0.5456\n",
      "Epoch 6/20\n",
      "99254/99254 [==============================] - 29s 290us/step - loss: 1.5591 - acc: 0.5589 - val_loss: 1.5559 - val_acc: 0.5565\n",
      "Epoch 7/20\n",
      "99254/99254 [==============================] - 33s 331us/step - loss: 1.5182 - acc: 0.5677 - val_loss: 1.5230 - val_acc: 0.5627\n",
      "Epoch 8/20\n",
      "99254/99254 [==============================] - 28s 285us/step - loss: 1.4871 - acc: 0.5738 - val_loss: 1.5046 - val_acc: 0.5688\n",
      "Epoch 9/20\n",
      "99254/99254 [==============================] - 28s 277us/step - loss: 1.4613 - acc: 0.5798 - val_loss: 1.4903 - val_acc: 0.5700\n",
      "Epoch 10/20\n",
      "99254/99254 [==============================] - 34s 339us/step - loss: 1.4404 - acc: 0.5853 - val_loss: 1.4732 - val_acc: 0.5755\n",
      "Epoch 11/20\n",
      "99254/99254 [==============================] - 35s 352us/step - loss: 1.4229 - acc: 0.5890 - val_loss: 1.4627 - val_acc: 0.5786\n",
      "Epoch 12/20\n",
      "99254/99254 [==============================] - 35s 348us/step - loss: 1.4073 - acc: 0.5926 - val_loss: 1.4551 - val_acc: 0.5779\n",
      "Epoch 13/20\n",
      "99254/99254 [==============================] - 33s 337us/step - loss: 1.3931 - acc: 0.5958 - val_loss: 1.4400 - val_acc: 0.5824\n",
      "Epoch 14/20\n",
      "99254/99254 [==============================] - 34s 344us/step - loss: 1.3804 - acc: 0.5990 - val_loss: 1.4323 - val_acc: 0.5839\n",
      "Epoch 15/20\n",
      "99254/99254 [==============================] - 35s 349us/step - loss: 1.3696 - acc: 0.6012 - val_loss: 1.4243 - val_acc: 0.5867\n",
      "Epoch 16/20\n",
      "99254/99254 [==============================] - 33s 335us/step - loss: 1.3592 - acc: 0.6042 - val_loss: 1.4294 - val_acc: 0.5861\n",
      "Epoch 17/20\n",
      "99254/99254 [==============================] - 35s 353us/step - loss: 1.3499 - acc: 0.6052 - val_loss: 1.4153 - val_acc: 0.5874\n",
      "Epoch 18/20\n",
      "99254/99254 [==============================] - 31s 316us/step - loss: 1.3402 - acc: 0.6078 - val_loss: 1.4129 - val_acc: 0.5896\n",
      "Epoch 19/20\n",
      "99254/99254 [==============================] - 28s 277us/step - loss: 1.3326 - acc: 0.6105 - val_loss: 1.4120 - val_acc: 0.5878\n",
      "Epoch 20/20\n",
      "99254/99254 [==============================] - 28s 278us/step - loss: 1.3243 - acc: 0.6115 - val_loss: 1.4066 - val_acc: 0.5902\n"
     ]
    }
   ],
   "source": [
    "from keras.layers import LSTM\n",
    "model = Sequential()\n",
    "model.add(embedding_layer)\n",
    "model.add(LSTM(32))\n",
    "#当结果是输出多个分类的概率时，用softmax激活函数,它将为30个分类提供不同的可能性概率值\n",
    "model.add(layers.Dense(len(int_category), activation='softmax'))\n",
    "\n",
    "#对于输出多个分类结果，最好的损失函数是categorical_crossentropy\n",
    "model.compile(optimizer='rmsprop', loss='categorical_crossentropy', metrics=['accuracy'])\n",
    "history = model.fit(x_train, y_train, epochs=20, validation_data=(x_val, y_val), batch_size=512)"
   ]
  },
  {
   "cell_type": "code",
   "execution_count": 161,
   "metadata": {},
   "outputs": [
    {
     "data": {
      "image/png": "[encoded data removed]",
      "text/plain": [
       "<Figure size 432x288 with 1 Axes>"
      ]
     },
     "metadata": {},
     "output_type": "display_data"
    }
   ],
   "source": [
    "acc = history.history['acc']\n",
    "val_acc = history.history['val_acc']\n",
    "loss = history.history['loss']\n",
    "val_loss = history.history['val_loss']\n",
    "epochs = range(1, len(acc) + 1)\n",
    "\n",
    "plt.title('Training and validation accuracy')\n",
    "plt.plot(epochs, acc, 'red', label='Training acc')\n",
    "plt.plot(epochs, val_acc, 'blue', label='Validation acc')\n",
    "plt.legend()\n",
    "plt.show()"
   ]
  },
  {
   "cell_type": "code",
   "execution_count": 165,
   "metadata": {},
   "outputs": [
    {
     "name": "stdout",
     "output_type": "stream",
     "text": [
      "Train on 99254 samples, validate on 24814 samples\n",
      "Epoch 1/20\n",
      "99254/99254 [==============================] - 21s 216us/step - loss: 2.4897 - acc: 0.3613 - val_loss: 2.1840 - val_acc: 0.4110\n",
      "Epoch 2/20\n",
      "99254/99254 [==============================] - 14s 144us/step - loss: 2.0911 - acc: 0.4362 - val_loss: 1.9449 - val_acc: 0.4645\n",
      "Epoch 3/20\n",
      "99254/99254 [==============================] - 15s 148us/step - loss: 1.9099 - acc: 0.4731 - val_loss: 1.8141 - val_acc: 0.4965\n",
      "Epoch 4/20\n",
      "99254/99254 [==============================] - 15s 156us/step - loss: 1.8031 - acc: 0.4984 - val_loss: 1.7219 - val_acc: 0.5185\n",
      "Epoch 5/20\n",
      "99254/99254 [==============================] - 15s 153us/step - loss: 1.7296 - acc: 0.5160 - val_loss: 1.6611 - val_acc: 0.5344\n",
      "Epoch 6/20\n",
      "99254/99254 [==============================] - 16s 157us/step - loss: 1.6754 - acc: 0.5302 - val_loss: 1.6159 - val_acc: 0.5428\n",
      "Epoch 7/20\n",
      "99254/99254 [==============================] - 20s 197us/step - loss: 1.6323 - acc: 0.5413 - val_loss: 1.5869 - val_acc: 0.5523\n",
      "Epoch 8/20\n",
      "99254/99254 [==============================] - 19s 195us/step - loss: 1.6005 - acc: 0.5482 - val_loss: 1.5610 - val_acc: 0.5580\n",
      "Epoch 9/20\n",
      "99254/99254 [==============================] - 20s 199us/step - loss: 1.5731 - acc: 0.5550 - val_loss: 1.5479 - val_acc: 0.5588\n",
      "Epoch 10/20\n",
      "99254/99254 [==============================] - 19s 195us/step - loss: 1.5522 - acc: 0.5597 - val_loss: 1.5249 - val_acc: 0.5640\n",
      "Epoch 11/20\n",
      "99254/99254 [==============================] - 21s 211us/step - loss: 1.5308 - acc: 0.5647 - val_loss: 1.5171 - val_acc: 0.5672\n",
      "Epoch 12/20\n",
      "99254/99254 [==============================] - 20s 205us/step - loss: 1.5147 - acc: 0.5688 - val_loss: 1.5082 - val_acc: 0.5696\n",
      "Epoch 13/20\n",
      "99254/99254 [==============================] - 17s 176us/step - loss: 1.4995 - acc: 0.5730 - val_loss: 1.4988 - val_acc: 0.5699\n",
      "Epoch 14/20\n",
      "99254/99254 [==============================] - 20s 198us/step - loss: 1.4858 - acc: 0.5768 - val_loss: 1.4930 - val_acc: 0.5716\n",
      "Epoch 15/20\n",
      "99254/99254 [==============================] - 19s 189us/step - loss: 1.4740 - acc: 0.5784 - val_loss: 1.4849 - val_acc: 0.5741\n",
      "Epoch 16/20\n",
      "99254/99254 [==============================] - 19s 192us/step - loss: 1.4594 - acc: 0.5833 - val_loss: 1.4986 - val_acc: 0.5700\n",
      "Epoch 17/20\n",
      "99254/99254 [==============================] - 17s 171us/step - loss: 1.4544 - acc: 0.5842 - val_loss: 1.4816 - val_acc: 0.5735\n",
      "Epoch 18/20\n",
      "99254/99254 [==============================] - 17s 166us/step - loss: 1.4410 - acc: 0.5868 - val_loss: 1.4809 - val_acc: 0.5758\n",
      "Epoch 19/20\n",
      "99254/99254 [==============================] - 17s 167us/step - loss: 1.4343 - acc: 0.5878 - val_loss: 1.4722 - val_acc: 0.5762\n",
      "Epoch 20/20\n",
      "99254/99254 [==============================] - 19s 191us/step - loss: 1.4264 - acc: 0.5891 - val_loss: 1.4704 - val_acc: 0.5762\n"
     ]
    }
   ],
   "source": [
    "from keras.layers import \n",
    "model = Sequential()\n",
    "model.add(embedding_layer)\n",
    "#使用一维卷积网络切割输入数据，参数5表示每各个单词作为切割小段\n",
    "model.add(layers.Conv1D(32, 5, activation='relu'))\n",
    "#参数3表示，上层传下来的数据中，从每3个数值中抽取最大值\n",
    "model.add(layers.MaxPooling1D(3))\n",
    "#添加一个有记忆性的GRU层，其原理与LSTM相同，运行速度更快，准确率有所降低\n",
    "model.add(layers.GRU(32, dropout=0.1))\n",
    "\n",
    "model.add(layers.Dense(len(int_category), activation='softmax'))\n",
    "\n",
    "#对于输出多个分类结果，最好的损失函数是categorical_crossentropy\n",
    "model.compile(optimizer='rmsprop', loss='categorical_crossentropy', metrics=['accuracy'])\n",
    "history = model.fit(x_train, y_train, epochs=20, validation_data=(x_val, y_val), batch_size=512)"
   ]
  },
  {
   "cell_type": "code",
   "execution_count": 166,
   "metadata": {},
   "outputs": [
    {
     "data": {
      "image/png": "[encoded data removed]",
      "text/plain": [
       "<Figure size 432x288 with 1 Axes>"
      ]
     },
     "metadata": {},
     "output_type": "display_data"
    }
   ],
   "source": [
    "acc = history.history['acc']\n",
    "val_acc = history.history['val_acc']\n",
    "loss = history.history['loss']\n",
    "val_loss = history.history['val_loss']\n",
    "epochs = range(1, len(acc) + 1)\n",
    "\n",
    "plt.title('Training and validation accuracy')\n",
    "plt.plot(epochs, acc, 'red', label='Training acc')\n",
    "plt.plot(epochs, val_acc, 'blue', label='Validation acc')\n",
    "plt.legend()\n",
    "plt.show()"
   ]
  },
  {
   "cell_type": "code",
   "execution_count": null,
   "metadata": {},
   "outputs": [],
   "source": []
  }
 ],
 "metadata": {
  "kernelspec": {
   "display_name": "Python 3",
   "language": "python",
   "name": "python3"
  },
  "language_info": {
   "codemirror_mode": {
    "name": "ipython",
    "version": 3
   },
   "file_extension": ".py",
   "mimetype": "text/x-python",
   "name": "python",
   "nbconvert_exporter": "python",
   "pygments_lexer": "ipython3",
   "version": "3.7.2"
  }
 },
 "nbformat": 4,
 "nbformat_minor": 2
}
